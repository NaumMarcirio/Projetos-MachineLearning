{
  "nbformat": 4,
  "nbformat_minor": 0,
  "metadata": {
    "colab": {
      "provenance": []
    },
    "kernelspec": {
      "name": "python3",
      "display_name": "Python 3"
    },
    "language_info": {
      "name": "python"
    }
  },
  "cells": [
    {
      "cell_type": "markdown",
      "source": [
        "Todas as importações para o codigo"
      ],
      "metadata": {
        "id": "RUtiFN_U-vkS"
      }
    },
    {
      "cell_type": "code",
      "execution_count": null,
      "metadata": {
        "id": "zD0OdeJaJmUt"
      },
      "outputs": [],
      "source": [
        "import pandas as pd\n",
        "import datetime\n",
        "import numpy as np\n",
        "import seaborn as sns\n",
        "from sklearn.model_selection import train_test_split\n",
        "from sklearn.preprocessing import OrdinalEncoder\n",
        "from keras.models import Sequential\n",
        "from keras.layers import Dense\n",
        "import matplotlib.pyplot as plt\n",
        "import tensorflow as tf"
      ]
    },
    {
      "cell_type": "markdown",
      "source": [
        "lê o dataframe, não utiliza a primeira coluna como index, armazena na variavel (dataFrame)"
      ],
      "metadata": {
        "id": "OXSf_6Va_VgX"
      }
    },
    {
      "cell_type": "code",
      "source": [
        "dataFrame = pd.read_csv( \"Red.csv\", index_col= False )"
      ],
      "metadata": {
        "id": "8ivOTwgGMOZj"
      },
      "execution_count": null,
      "outputs": []
    },
    {
      "cell_type": "markdown",
      "source": [
        "inserimos uma nova informação ao dataframe"
      ],
      "metadata": {
        "id": "4pyiC4pF_Zo_"
      }
    },
    {
      "cell_type": "code",
      "source": [
        "nova_linha = pd.DataFrame({\n",
        "    \"Name\": [\"\"],\n",
        "    \"Country\" : [\"unknown\"],\n",
        "    \"Region\": [\"unknown\"],\n",
        "    \"Winery\": [\"unknown\"],\n",
        "    \"Rating\": [dataFrame['Rating'].mean()],\n",
        "    \"NumberOfRatings\": [\"\"],\n",
        "    \"Price\": [dataFrame['Price'].mean()],\n",
        "    \"Year\": [\"2023\"]\n",
        "})\n",
        "\n",
        "dataFrame = dataFrame.append(nova_linha, ignore_index=True)"
      ],
      "metadata": {
        "colab": {
          "base_uri": "https://localhost:8080/"
        },
        "id": "hbliqetyc_mP",
        "outputId": "ef07720a-8fbc-4f5e-a3d8-5b2a1020d973"
      },
      "execution_count": null,
      "outputs": [
        {
          "output_type": "stream",
          "name": "stderr",
          "text": [
            "<ipython-input-3-96e5423ba150>:12: FutureWarning: The frame.append method is deprecated and will be removed from pandas in a future version. Use pandas.concat instead.\n",
            "  dataFrame = dataFrame.append(nova_linha, ignore_index=True)\n"
          ]
        }
      ]
    },
    {
      "cell_type": "code",
      "source": [
        "dataFrame"
      ],
      "metadata": {
        "id": "mg-5JvkmMkij",
        "colab": {
          "base_uri": "https://localhost:8080/",
          "height": 423
        },
        "outputId": "cfa2eeef-2de3-45eb-90d6-ee557869b5a2"
      },
      "execution_count": null,
      "outputs": [
        {
          "output_type": "execute_result",
          "data": {
            "text/plain": [
              "                                    Name        Country  \\\n",
              "0                           Pomerol 2011         France   \n",
              "1                             Lirac 2017         France   \n",
              "2     Erta e China Rosso di Toscana 2015          Italy   \n",
              "3                         Bardolino 2019          Italy   \n",
              "4         Ried Scheibner Pinot Noir 2016        Austria   \n",
              "...                                  ...            ...   \n",
              "8661                6th Sense Syrah 2016  United States   \n",
              "8662     Botrosecco Maremma Toscana 2016          Italy   \n",
              "8663                     Haut-Médoc 2010         France   \n",
              "8664                         Shiraz 2019      Australia   \n",
              "8665    Portillo Cabernet Sauvignon 2016      Argentina   \n",
              "\n",
              "                       Region                     Winery  Rating  \\\n",
              "0                     Pomerol      Château La Providence     4.2   \n",
              "1                       Lirac         Château Mont-Redon     4.3   \n",
              "2                     Toscana                 Renzo Masi     3.9   \n",
              "3                   Bardolino                 Cavalchina     3.5   \n",
              "4                   Carnuntum                Markowitsch     3.9   \n",
              "...                       ...                        ...     ...   \n",
              "8661                     Lodi       Michael David Winery     3.8   \n",
              "8662          Maremma Toscana                Le Mortelle     4.0   \n",
              "8663               Haut-Médoc  Château Cambon La Pelouse     3.7   \n",
              "8664  South Eastern Australia                Yellow Tail     3.5   \n",
              "8665                  Tunuyán                  Salentein     3.4   \n",
              "\n",
              "      NumberOfRatings  Price  Year  \n",
              "0                 100  95.00  2011  \n",
              "1                 100  15.50  2017  \n",
              "2                 100   7.45  2015  \n",
              "3                 100   8.72  2019  \n",
              "4                 100  29.15  2016  \n",
              "...               ...    ...   ...  \n",
              "8661              994  16.47  2016  \n",
              "8662              995  20.09  2016  \n",
              "8663              996  23.95  2010  \n",
              "8664              998   6.21  2019  \n",
              "8665              999   7.88  2016  \n",
              "\n",
              "[8666 rows x 8 columns]"
            ],
            "text/html": [
              "\n",
              "  <div id=\"df-e5524378-d8bb-4b41-8d2e-1fe222b2aa16\" class=\"colab-df-container\">\n",
              "    <div>\n",
              "<style scoped>\n",
              "    .dataframe tbody tr th:only-of-type {\n",
              "        vertical-align: middle;\n",
              "    }\n",
              "\n",
              "    .dataframe tbody tr th {\n",
              "        vertical-align: top;\n",
              "    }\n",
              "\n",
              "    .dataframe thead th {\n",
              "        text-align: right;\n",
              "    }\n",
              "</style>\n",
              "<table border=\"1\" class=\"dataframe\">\n",
              "  <thead>\n",
              "    <tr style=\"text-align: right;\">\n",
              "      <th></th>\n",
              "      <th>Name</th>\n",
              "      <th>Country</th>\n",
              "      <th>Region</th>\n",
              "      <th>Winery</th>\n",
              "      <th>Rating</th>\n",
              "      <th>NumberOfRatings</th>\n",
              "      <th>Price</th>\n",
              "      <th>Year</th>\n",
              "    </tr>\n",
              "  </thead>\n",
              "  <tbody>\n",
              "    <tr>\n",
              "      <th>0</th>\n",
              "      <td>Pomerol 2011</td>\n",
              "      <td>France</td>\n",
              "      <td>Pomerol</td>\n",
              "      <td>Château La Providence</td>\n",
              "      <td>4.2</td>\n",
              "      <td>100</td>\n",
              "      <td>95.00</td>\n",
              "      <td>2011</td>\n",
              "    </tr>\n",
              "    <tr>\n",
              "      <th>1</th>\n",
              "      <td>Lirac 2017</td>\n",
              "      <td>France</td>\n",
              "      <td>Lirac</td>\n",
              "      <td>Château Mont-Redon</td>\n",
              "      <td>4.3</td>\n",
              "      <td>100</td>\n",
              "      <td>15.50</td>\n",
              "      <td>2017</td>\n",
              "    </tr>\n",
              "    <tr>\n",
              "      <th>2</th>\n",
              "      <td>Erta e China Rosso di Toscana 2015</td>\n",
              "      <td>Italy</td>\n",
              "      <td>Toscana</td>\n",
              "      <td>Renzo Masi</td>\n",
              "      <td>3.9</td>\n",
              "      <td>100</td>\n",
              "      <td>7.45</td>\n",
              "      <td>2015</td>\n",
              "    </tr>\n",
              "    <tr>\n",
              "      <th>3</th>\n",
              "      <td>Bardolino 2019</td>\n",
              "      <td>Italy</td>\n",
              "      <td>Bardolino</td>\n",
              "      <td>Cavalchina</td>\n",
              "      <td>3.5</td>\n",
              "      <td>100</td>\n",
              "      <td>8.72</td>\n",
              "      <td>2019</td>\n",
              "    </tr>\n",
              "    <tr>\n",
              "      <th>4</th>\n",
              "      <td>Ried Scheibner Pinot Noir 2016</td>\n",
              "      <td>Austria</td>\n",
              "      <td>Carnuntum</td>\n",
              "      <td>Markowitsch</td>\n",
              "      <td>3.9</td>\n",
              "      <td>100</td>\n",
              "      <td>29.15</td>\n",
              "      <td>2016</td>\n",
              "    </tr>\n",
              "    <tr>\n",
              "      <th>...</th>\n",
              "      <td>...</td>\n",
              "      <td>...</td>\n",
              "      <td>...</td>\n",
              "      <td>...</td>\n",
              "      <td>...</td>\n",
              "      <td>...</td>\n",
              "      <td>...</td>\n",
              "      <td>...</td>\n",
              "    </tr>\n",
              "    <tr>\n",
              "      <th>8661</th>\n",
              "      <td>6th Sense Syrah 2016</td>\n",
              "      <td>United States</td>\n",
              "      <td>Lodi</td>\n",
              "      <td>Michael David Winery</td>\n",
              "      <td>3.8</td>\n",
              "      <td>994</td>\n",
              "      <td>16.47</td>\n",
              "      <td>2016</td>\n",
              "    </tr>\n",
              "    <tr>\n",
              "      <th>8662</th>\n",
              "      <td>Botrosecco Maremma Toscana 2016</td>\n",
              "      <td>Italy</td>\n",
              "      <td>Maremma Toscana</td>\n",
              "      <td>Le Mortelle</td>\n",
              "      <td>4.0</td>\n",
              "      <td>995</td>\n",
              "      <td>20.09</td>\n",
              "      <td>2016</td>\n",
              "    </tr>\n",
              "    <tr>\n",
              "      <th>8663</th>\n",
              "      <td>Haut-Médoc 2010</td>\n",
              "      <td>France</td>\n",
              "      <td>Haut-Médoc</td>\n",
              "      <td>Château Cambon La Pelouse</td>\n",
              "      <td>3.7</td>\n",
              "      <td>996</td>\n",
              "      <td>23.95</td>\n",
              "      <td>2010</td>\n",
              "    </tr>\n",
              "    <tr>\n",
              "      <th>8664</th>\n",
              "      <td>Shiraz 2019</td>\n",
              "      <td>Australia</td>\n",
              "      <td>South Eastern Australia</td>\n",
              "      <td>Yellow Tail</td>\n",
              "      <td>3.5</td>\n",
              "      <td>998</td>\n",
              "      <td>6.21</td>\n",
              "      <td>2019</td>\n",
              "    </tr>\n",
              "    <tr>\n",
              "      <th>8665</th>\n",
              "      <td>Portillo Cabernet Sauvignon 2016</td>\n",
              "      <td>Argentina</td>\n",
              "      <td>Tunuyán</td>\n",
              "      <td>Salentein</td>\n",
              "      <td>3.4</td>\n",
              "      <td>999</td>\n",
              "      <td>7.88</td>\n",
              "      <td>2016</td>\n",
              "    </tr>\n",
              "  </tbody>\n",
              "</table>\n",
              "<p>8666 rows × 8 columns</p>\n",
              "</div>\n",
              "    <div class=\"colab-df-buttons\">\n",
              "\n",
              "  <div class=\"colab-df-container\">\n",
              "    <button class=\"colab-df-convert\" onclick=\"convertToInteractive('df-e5524378-d8bb-4b41-8d2e-1fe222b2aa16')\"\n",
              "            title=\"Convert this dataframe to an interactive table.\"\n",
              "            style=\"display:none;\">\n",
              "\n",
              "  <svg xmlns=\"http://www.w3.org/2000/svg\" height=\"24px\" viewBox=\"0 -960 960 960\">\n",
              "    <path d=\"M120-120v-720h720v720H120Zm60-500h600v-160H180v160Zm220 220h160v-160H400v160Zm0 220h160v-160H400v160ZM180-400h160v-160H180v160Zm440 0h160v-160H620v160ZM180-180h160v-160H180v160Zm440 0h160v-160H620v160Z\"/>\n",
              "  </svg>\n",
              "    </button>\n",
              "\n",
              "  <style>\n",
              "    .colab-df-container {\n",
              "      display:flex;\n",
              "      gap: 12px;\n",
              "    }\n",
              "\n",
              "    .colab-df-convert {\n",
              "      background-color: #E8F0FE;\n",
              "      border: none;\n",
              "      border-radius: 50%;\n",
              "      cursor: pointer;\n",
              "      display: none;\n",
              "      fill: #1967D2;\n",
              "      height: 32px;\n",
              "      padding: 0 0 0 0;\n",
              "      width: 32px;\n",
              "    }\n",
              "\n",
              "    .colab-df-convert:hover {\n",
              "      background-color: #E2EBFA;\n",
              "      box-shadow: 0px 1px 2px rgba(60, 64, 67, 0.3), 0px 1px 3px 1px rgba(60, 64, 67, 0.15);\n",
              "      fill: #174EA6;\n",
              "    }\n",
              "\n",
              "    .colab-df-buttons div {\n",
              "      margin-bottom: 4px;\n",
              "    }\n",
              "\n",
              "    [theme=dark] .colab-df-convert {\n",
              "      background-color: #3B4455;\n",
              "      fill: #D2E3FC;\n",
              "    }\n",
              "\n",
              "    [theme=dark] .colab-df-convert:hover {\n",
              "      background-color: #434B5C;\n",
              "      box-shadow: 0px 1px 3px 1px rgba(0, 0, 0, 0.15);\n",
              "      filter: drop-shadow(0px 1px 2px rgba(0, 0, 0, 0.3));\n",
              "      fill: #FFFFFF;\n",
              "    }\n",
              "  </style>\n",
              "\n",
              "    <script>\n",
              "      const buttonEl =\n",
              "        document.querySelector('#df-e5524378-d8bb-4b41-8d2e-1fe222b2aa16 button.colab-df-convert');\n",
              "      buttonEl.style.display =\n",
              "        google.colab.kernel.accessAllowed ? 'block' : 'none';\n",
              "\n",
              "      async function convertToInteractive(key) {\n",
              "        const element = document.querySelector('#df-e5524378-d8bb-4b41-8d2e-1fe222b2aa16');\n",
              "        const dataTable =\n",
              "          await google.colab.kernel.invokeFunction('convertToInteractive',\n",
              "                                                    [key], {});\n",
              "        if (!dataTable) return;\n",
              "\n",
              "        const docLinkHtml = 'Like what you see? Visit the ' +\n",
              "          '<a target=\"_blank\" href=https://colab.research.google.com/notebooks/data_table.ipynb>data table notebook</a>'\n",
              "          + ' to learn more about interactive tables.';\n",
              "        element.innerHTML = '';\n",
              "        dataTable['output_type'] = 'display_data';\n",
              "        await google.colab.output.renderOutput(dataTable, element);\n",
              "        const docLink = document.createElement('div');\n",
              "        docLink.innerHTML = docLinkHtml;\n",
              "        element.appendChild(docLink);\n",
              "      }\n",
              "    </script>\n",
              "  </div>\n",
              "\n",
              "\n",
              "<div id=\"df-65129bf3-6e6d-47f2-9db7-bd55b66cec05\">\n",
              "  <button class=\"colab-df-quickchart\" onclick=\"quickchart('df-65129bf3-6e6d-47f2-9db7-bd55b66cec05')\"\n",
              "            title=\"Suggest charts.\"\n",
              "            style=\"display:none;\">\n",
              "\n",
              "<svg xmlns=\"http://www.w3.org/2000/svg\" height=\"24px\"viewBox=\"0 0 24 24\"\n",
              "     width=\"24px\">\n",
              "    <g>\n",
              "        <path d=\"M19 3H5c-1.1 0-2 .9-2 2v14c0 1.1.9 2 2 2h14c1.1 0 2-.9 2-2V5c0-1.1-.9-2-2-2zM9 17H7v-7h2v7zm4 0h-2V7h2v10zm4 0h-2v-4h2v4z\"/>\n",
              "    </g>\n",
              "</svg>\n",
              "  </button>\n",
              "\n",
              "<style>\n",
              "  .colab-df-quickchart {\n",
              "      --bg-color: #E8F0FE;\n",
              "      --fill-color: #1967D2;\n",
              "      --hover-bg-color: #E2EBFA;\n",
              "      --hover-fill-color: #174EA6;\n",
              "      --disabled-fill-color: #AAA;\n",
              "      --disabled-bg-color: #DDD;\n",
              "  }\n",
              "\n",
              "  [theme=dark] .colab-df-quickchart {\n",
              "      --bg-color: #3B4455;\n",
              "      --fill-color: #D2E3FC;\n",
              "      --hover-bg-color: #434B5C;\n",
              "      --hover-fill-color: #FFFFFF;\n",
              "      --disabled-bg-color: #3B4455;\n",
              "      --disabled-fill-color: #666;\n",
              "  }\n",
              "\n",
              "  .colab-df-quickchart {\n",
              "    background-color: var(--bg-color);\n",
              "    border: none;\n",
              "    border-radius: 50%;\n",
              "    cursor: pointer;\n",
              "    display: none;\n",
              "    fill: var(--fill-color);\n",
              "    height: 32px;\n",
              "    padding: 0;\n",
              "    width: 32px;\n",
              "  }\n",
              "\n",
              "  .colab-df-quickchart:hover {\n",
              "    background-color: var(--hover-bg-color);\n",
              "    box-shadow: 0 1px 2px rgba(60, 64, 67, 0.3), 0 1px 3px 1px rgba(60, 64, 67, 0.15);\n",
              "    fill: var(--button-hover-fill-color);\n",
              "  }\n",
              "\n",
              "  .colab-df-quickchart-complete:disabled,\n",
              "  .colab-df-quickchart-complete:disabled:hover {\n",
              "    background-color: var(--disabled-bg-color);\n",
              "    fill: var(--disabled-fill-color);\n",
              "    box-shadow: none;\n",
              "  }\n",
              "\n",
              "  .colab-df-spinner {\n",
              "    border: 2px solid var(--fill-color);\n",
              "    border-color: transparent;\n",
              "    border-bottom-color: var(--fill-color);\n",
              "    animation:\n",
              "      spin 1s steps(1) infinite;\n",
              "  }\n",
              "\n",
              "  @keyframes spin {\n",
              "    0% {\n",
              "      border-color: transparent;\n",
              "      border-bottom-color: var(--fill-color);\n",
              "      border-left-color: var(--fill-color);\n",
              "    }\n",
              "    20% {\n",
              "      border-color: transparent;\n",
              "      border-left-color: var(--fill-color);\n",
              "      border-top-color: var(--fill-color);\n",
              "    }\n",
              "    30% {\n",
              "      border-color: transparent;\n",
              "      border-left-color: var(--fill-color);\n",
              "      border-top-color: var(--fill-color);\n",
              "      border-right-color: var(--fill-color);\n",
              "    }\n",
              "    40% {\n",
              "      border-color: transparent;\n",
              "      border-right-color: var(--fill-color);\n",
              "      border-top-color: var(--fill-color);\n",
              "    }\n",
              "    60% {\n",
              "      border-color: transparent;\n",
              "      border-right-color: var(--fill-color);\n",
              "    }\n",
              "    80% {\n",
              "      border-color: transparent;\n",
              "      border-right-color: var(--fill-color);\n",
              "      border-bottom-color: var(--fill-color);\n",
              "    }\n",
              "    90% {\n",
              "      border-color: transparent;\n",
              "      border-bottom-color: var(--fill-color);\n",
              "    }\n",
              "  }\n",
              "</style>\n",
              "\n",
              "  <script>\n",
              "    async function quickchart(key) {\n",
              "      const quickchartButtonEl =\n",
              "        document.querySelector('#' + key + ' button');\n",
              "      quickchartButtonEl.disabled = true;  // To prevent multiple clicks.\n",
              "      quickchartButtonEl.classList.add('colab-df-spinner');\n",
              "      try {\n",
              "        const charts = await google.colab.kernel.invokeFunction(\n",
              "            'suggestCharts', [key], {});\n",
              "      } catch (error) {\n",
              "        console.error('Error during call to suggestCharts:', error);\n",
              "      }\n",
              "      quickchartButtonEl.classList.remove('colab-df-spinner');\n",
              "      quickchartButtonEl.classList.add('colab-df-quickchart-complete');\n",
              "    }\n",
              "    (() => {\n",
              "      let quickchartButtonEl =\n",
              "        document.querySelector('#df-65129bf3-6e6d-47f2-9db7-bd55b66cec05 button');\n",
              "      quickchartButtonEl.style.display =\n",
              "        google.colab.kernel.accessAllowed ? 'block' : 'none';\n",
              "    })();\n",
              "  </script>\n",
              "</div>\n",
              "    </div>\n",
              "  </div>\n"
            ]
          },
          "metadata": {},
          "execution_count": 39
        }
      ]
    },
    {
      "cell_type": "markdown",
      "source": [
        "ele retornará um objeto de índice do pandas contendo os rótulos das linhas no DataFrame."
      ],
      "metadata": {
        "id": "n6sngYke_znH"
      }
    },
    {
      "cell_type": "code",
      "source": [
        "dataFrame.index"
      ],
      "metadata": {
        "id": "w1U9SkkoNAE1",
        "colab": {
          "base_uri": "https://localhost:8080/"
        },
        "outputId": "6868e48a-a980-47f2-c40b-d286e8bd08df"
      },
      "execution_count": null,
      "outputs": [
        {
          "output_type": "execute_result",
          "data": {
            "text/plain": [
              "RangeIndex(start=0, stop=8667, step=1)"
            ]
          },
          "metadata": {},
          "execution_count": 5
        }
      ]
    },
    {
      "cell_type": "markdown",
      "source": [
        "verifica no dataframe se temos alguma informação como null, tranformando em True as Null, e False as não Null (True = 1, False = 0) e somando as informações."
      ],
      "metadata": {
        "id": "D4L0dLGo_6Eu"
      }
    },
    {
      "cell_type": "code",
      "source": [
        "dataFrame.isnull().sum()"
      ],
      "metadata": {
        "id": "50KzeTVTOLEh",
        "colab": {
          "base_uri": "https://localhost:8080/"
        },
        "outputId": "f5590236-7c41-47c1-e5f4-fa6b1ef5da98"
      },
      "execution_count": null,
      "outputs": [
        {
          "output_type": "execute_result",
          "data": {
            "text/plain": [
              "Name               0\n",
              "Country            0\n",
              "Region             0\n",
              "Winery             0\n",
              "Rating             0\n",
              "NumberOfRatings    0\n",
              "Price              0\n",
              "Year               0\n",
              "dtype: int64"
            ]
          },
          "metadata": {},
          "execution_count": 6
        }
      ]
    },
    {
      "cell_type": "markdown",
      "source": [
        "Transforma as informaçoes da coluna para numerico, caso não tenha como transforma para NaN (Not a Number), e faz o calculo para descobrir a idade o vinho, utilizando o ano atual menos o ano do vinho."
      ],
      "metadata": {
        "id": "soXImRYiAY7d"
      }
    },
    {
      "cell_type": "code",
      "source": [
        "dataFrame['Year'] = pd.to_numeric(dataFrame['Year'], errors='coerce')\n",
        "dataFrame['Year'] = 2023 - dataFrame['Year']"
      ],
      "metadata": {
        "id": "Ii-7kTmFTdvd"
      },
      "execution_count": null,
      "outputs": []
    },
    {
      "cell_type": "markdown",
      "source": [
        "cria variaveis com OrdinalEncoder, utilizado para converter infomarção em numerico.\n",
        "\n",
        "(poderia ter sido utilizado apenas uma variavel para estes encoders, criando um encoder geral, e criando uma variavel lista com as colunas na qual seria modificado)"
      ],
      "metadata": {
        "id": "l1Wx9m-iCL3K"
      }
    },
    {
      "cell_type": "code",
      "source": [
        "Country_encoder = OrdinalEncoder()\n",
        "Region_encoder = OrdinalEncoder()\n",
        "Winery_encoder = OrdinalEncoder()"
      ],
      "metadata": {
        "id": "C6b7ib1gOrcR"
      },
      "execution_count": null,
      "outputs": []
    },
    {
      "cell_type": "markdown",
      "source": [
        "fit_transform é usado para ajustar o encoder aos valores únicos nas colunas e transformar esses valores em inteiros codificados.\n",
        ".values.reshape(-1, 1) é utilizado para converter a coluna em uma matriz 2D (necessário para que fit_transform funcione). -1 significa \"inferir o tamanho\" e 1 significa uma coluna."
      ],
      "metadata": {
        "id": "qT9A1tfXDQ6f"
      }
    },
    {
      "cell_type": "code",
      "source": [
        "dataFrame['Country'] = Country_encoder.fit_transform(dataFrame['Country'].values.reshape(-1,1))\n",
        "dataFrame['Region'] = Region_encoder.fit_transform(dataFrame['Region'].values.reshape(-1,1))\n",
        "dataFrame['Winery'] = Winery_encoder.fit_transform(dataFrame['Winery'].values.reshape(-1,1))"
      ],
      "metadata": {
        "id": "xkAkvjk9PNfP"
      },
      "execution_count": null,
      "outputs": []
    },
    {
      "cell_type": "markdown",
      "source": [
        "novamente verifica se temos alguma informação como null, agora temos 8 em Year"
      ],
      "metadata": {
        "id": "7Z0b70dgDlZu"
      }
    },
    {
      "cell_type": "code",
      "source": [
        "dataFrame.isnull().sum()"
      ],
      "metadata": {
        "colab": {
          "base_uri": "https://localhost:8080/"
        },
        "id": "Xj1g0JjgK3bg",
        "outputId": "da9595d0-b660-4f0d-8edb-c5bf91f80e94"
      },
      "execution_count": null,
      "outputs": [
        {
          "output_type": "execute_result",
          "data": {
            "text/plain": [
              "Name               0\n",
              "Country            0\n",
              "Region             0\n",
              "Winery             0\n",
              "Rating             0\n",
              "NumberOfRatings    0\n",
              "Price              0\n",
              "Year               8\n",
              "dtype: int64"
            ]
          },
          "metadata": {},
          "execution_count": 10
        }
      ]
    },
    {
      "cell_type": "markdown",
      "source": [
        "remove aqueles que na coluna Year possuem valores NaN"
      ],
      "metadata": {
        "id": "EAZ2Nj06D2iW"
      }
    },
    {
      "cell_type": "code",
      "source": [
        "dataFrame = dataFrame.dropna(subset=['Year'])"
      ],
      "metadata": {
        "id": "DFATH5wILN7c"
      },
      "execution_count": null,
      "outputs": []
    },
    {
      "cell_type": "markdown",
      "source": [
        "Cria o grafico de calor, utilizando o metodo de Pearson\n",
        "utilizado para verificar qual informação mais afeta no resultado."
      ],
      "metadata": {
        "id": "gtVXj5bVEiTd"
      }
    },
    {
      "cell_type": "code",
      "source": [
        "a4_dim = (12, 9)\n",
        "fig, ax = plt.subplots(figsize = a4_dim)\n",
        "sns.heatmap(dataFrame.corr(method = 'spearman'), annot = True )"
      ],
      "metadata": {
        "id": "_Y-ggowrbjZo",
        "colab": {
          "base_uri": "https://localhost:8080/",
          "height": 831
        },
        "outputId": "6893037e-a50e-4dc5-a492-0af38119dc24"
      },
      "execution_count": null,
      "outputs": [
        {
          "output_type": "stream",
          "name": "stderr",
          "text": [
            "<ipython-input-12-649b1c0eae8e>:3: FutureWarning: The default value of numeric_only in DataFrame.corr is deprecated. In a future version, it will default to False. Select only valid columns or specify the value of numeric_only to silence this warning.\n",
            "  sns.heatmap(dataFrame.corr(method = 'spearman'), annot = True )\n"
          ]
        },
        {
          "output_type": "execute_result",
          "data": {
            "text/plain": [
              "<Axes: >"
            ]
          },
          "metadata": {},
          "execution_count": 12
        },
        {
          "output_type": "display_data",
          "data": {
            "text/plain": [
              "<Figure size 1200x900 with 2 Axes>"
            ],
            "image/png": "[encoded data removed]"
          },
          "metadata": {}
        }
      ]
    },
    {
      "cell_type": "markdown",
      "source": [
        "Dropamos a colunas 'Name','NumberOfRatings' diretamento no dataFrame"
      ],
      "metadata": {
        "id": "Mhb-5E_rFKY0"
      }
    },
    {
      "cell_type": "code",
      "source": [],
      "metadata": {
        "id": "frGmM5jajs11"
      },
      "execution_count": null,
      "outputs": []
    },
    {
      "cell_type": "code",
      "source": [
        "dataFrame.drop(['Name','NumberOfRatings'], axis=1, inplace=True )"
      ],
      "metadata": {
        "id": "70m8tkHGNI-z",
        "colab": {
          "base_uri": "https://localhost:8080/"
        },
        "outputId": "f496ab69-e14a-4945-8f99-976807e02cc3"
      },
      "execution_count": null,
      "outputs": [
        {
          "output_type": "stream",
          "name": "stderr",
          "text": [
            "<ipython-input-13-3ba1c03e385d>:1: SettingWithCopyWarning: \n",
            "A value is trying to be set on a copy of a slice from a DataFrame\n",
            "\n",
            "See the caveats in the documentation: https://pandas.pydata.org/pandas-docs/stable/user_guide/indexing.html#returning-a-view-versus-a-copy\n",
            "  dataFrame.drop(['Name','NumberOfRatings'], axis=1, inplace=True )\n"
          ]
        }
      ]
    },
    {
      "cell_type": "code",
      "source": [
        "sns.boxplot(x=dataFrame['Country'])"
      ],
      "metadata": {
        "id": "rrh-jRX9RLdS",
        "colab": {
          "base_uri": "https://localhost:8080/",
          "height": 466
        },
        "outputId": "65301e49-4384-4155-c92d-7959508b51dd"
      },
      "execution_count": null,
      "outputs": [
        {
          "output_type": "execute_result",
          "data": {
            "text/plain": [
              "<Axes: xlabel='Country'>"
            ]
          },
          "metadata": {},
          "execution_count": 14
        },
        {
          "output_type": "display_data",
          "data": {
            "text/plain": [
              "<Figure size 640x480 with 1 Axes>"
            ],
            "image/png": "[encoded data removed]"
          },
          "metadata": {}
        }
      ]
    },
    {
      "cell_type": "code",
      "source": [
        "sns.boxplot(x=dataFrame['Region'])"
      ],
      "metadata": {
        "id": "tgqTiYJnRpaa",
        "colab": {
          "base_uri": "https://localhost:8080/",
          "height": 466
        },
        "outputId": "11342ac6-f531-4340-bd4e-892c9be227dc"
      },
      "execution_count": null,
      "outputs": [
        {
          "output_type": "execute_result",
          "data": {
            "text/plain": [
              "<Axes: xlabel='Region'>"
            ]
          },
          "metadata": {},
          "execution_count": 15
        },
        {
          "output_type": "display_data",
          "data": {
            "text/plain": [
              "<Figure size 640x480 with 1 Axes>"
            ],
            "image/png": "[encoded data removed]"
          },
          "metadata": {}
        }
      ]
    },
    {
      "cell_type": "code",
      "source": [
        "sns.boxplot(x=dataFrame['Winery'])"
      ],
      "metadata": {
        "id": "wLjBiSHSRp4G",
        "colab": {
          "base_uri": "https://localhost:8080/",
          "height": 466
        },
        "outputId": "7b3f1eb1-2ba3-4c17-9481-9a2eca5a20b8"
      },
      "execution_count": null,
      "outputs": [
        {
          "output_type": "execute_result",
          "data": {
            "text/plain": [
              "<Axes: xlabel='Winery'>"
            ]
          },
          "metadata": {},
          "execution_count": 16
        },
        {
          "output_type": "display_data",
          "data": {
            "text/plain": [
              "<Figure size 640x480 with 1 Axes>"
            ],
            "image/png": "[encoded data removed]"
          },
          "metadata": {}
        }
      ]
    },
    {
      "cell_type": "code",
      "source": [
        "sns.boxplot(x=dataFrame['Year'])"
      ],
      "metadata": {
        "id": "Yhr1d7kEgR1X",
        "colab": {
          "base_uri": "https://localhost:8080/",
          "height": 466
        },
        "outputId": "514cfe26-21ff-4832-d937-f8cbbb9cd3d7"
      },
      "execution_count": null,
      "outputs": [
        {
          "output_type": "execute_result",
          "data": {
            "text/plain": [
              "<Axes: xlabel='Year'>"
            ]
          },
          "metadata": {},
          "execution_count": 17
        },
        {
          "output_type": "display_data",
          "data": {
            "text/plain": [
              "<Figure size 640x480 with 1 Axes>"
            ],
            "image/png": "[encoded data removed]"
          },
          "metadata": {}
        }
      ]
    },
    {
      "cell_type": "code",
      "source": [
        "sns.boxplot(x=dataFrame['Rating'])"
      ],
      "metadata": {
        "id": "4_HwksQ2fXEK",
        "colab": {
          "base_uri": "https://localhost:8080/",
          "height": 466
        },
        "outputId": "2316f044-ed46-4e2d-83df-62e47a3c4f86"
      },
      "execution_count": null,
      "outputs": [
        {
          "output_type": "execute_result",
          "data": {
            "text/plain": [
              "<Axes: xlabel='Rating'>"
            ]
          },
          "metadata": {},
          "execution_count": 18
        },
        {
          "output_type": "display_data",
          "data": {
            "text/plain": [
              "<Figure size 640x480 with 1 Axes>"
            ],
            "image/png": "[encoded data removed]"
          },
          "metadata": {}
        }
      ]
    },
    {
      "cell_type": "code",
      "source": [
        "sns.boxplot(x=dataFrame['Price'])"
      ],
      "metadata": {
        "id": "G5Rd1ilCeKNb",
        "colab": {
          "base_uri": "https://localhost:8080/",
          "height": 466
        },
        "outputId": "06a39f06-0168-45b5-ed36-6b9364527c14"
      },
      "execution_count": null,
      "outputs": [
        {
          "output_type": "execute_result",
          "data": {
            "text/plain": [
              "<Axes: xlabel='Price'>"
            ]
          },
          "metadata": {},
          "execution_count": 19
        },
        {
          "output_type": "display_data",
          "data": {
            "text/plain": [
              "<Figure size 640x480 with 1 Axes>"
            ],
            "image/png": "[encoded data removed]"
          },
          "metadata": {}
        }
      ]
    },
    {
      "cell_type": "markdown",
      "source": [
        "levando em cosideração o grafico acima, verificamos qual o preço"
      ],
      "metadata": {
        "id": "6ozVSQFDFzfC"
      }
    },
    {
      "cell_type": "code",
      "source": [
        "dataFrame['Price'].max()"
      ],
      "metadata": {
        "id": "OjvVqHzcevTb",
        "colab": {
          "base_uri": "https://localhost:8080/"
        },
        "outputId": "88889f85-a4e6-4c9d-f959-90791332b3d9"
      },
      "execution_count": null,
      "outputs": [
        {
          "output_type": "execute_result",
          "data": {
            "text/plain": [
              "3410.79"
            ]
          },
          "metadata": {},
          "execution_count": 20
        }
      ]
    },
    {
      "cell_type": "markdown",
      "source": [
        "agora verificamos as informções sobre o mesmo"
      ],
      "metadata": {
        "id": "pBgpuWDvF5q5"
      }
    },
    {
      "cell_type": "code",
      "source": [
        "indice_max_valor = dataFrame['Price'].idxmax()\n",
        "linha_max_valor = dataFrame.loc[indice_max_valor]\n",
        "linha_max_valor"
      ],
      "metadata": {
        "id": "E9AuKq9zfKoe",
        "colab": {
          "base_uri": "https://localhost:8080/"
        },
        "outputId": "d7fd1fbe-ca81-45ae-eeb5-bd347a570961"
      },
      "execution_count": null,
      "outputs": [
        {
          "output_type": "execute_result",
          "data": {
            "text/plain": [
              "Country       9.00\n",
              "Region      408.00\n",
              "Winery     2119.00\n",
              "Rating        4.70\n",
              "Price      3410.79\n",
              "Year         11.00\n",
              "Name: 2344, dtype: float64"
            ]
          },
          "metadata": {},
          "execution_count": 21
        }
      ]
    },
    {
      "cell_type": "markdown",
      "source": [
        "comparamos com o maior Rating do dataframe, e no caso o com maior valor não é o com maior rating"
      ],
      "metadata": {
        "id": "5bAx-dqKGCn5"
      }
    },
    {
      "cell_type": "code",
      "source": [
        "dataFrame['Rating'].max()"
      ],
      "metadata": {
        "id": "FYYIgDGAfc1E",
        "colab": {
          "base_uri": "https://localhost:8080/"
        },
        "outputId": "a68342cf-2ff4-4060-db98-f97cbb734146"
      },
      "execution_count": null,
      "outputs": [
        {
          "output_type": "execute_result",
          "data": {
            "text/plain": [
              "4.8"
            ]
          },
          "metadata": {},
          "execution_count": 22
        }
      ]
    },
    {
      "cell_type": "markdown",
      "source": [
        "Cria um filtro com as 99.99% das informações da coluna Price do dataframe"
      ],
      "metadata": {
        "id": "auD1XUSmGpLg"
      }
    },
    {
      "cell_type": "code",
      "source": [
        "hi_filter = dataFrame['Price'].quantile(0.9999)\n",
        "hi_filter"
      ],
      "metadata": {
        "id": "vMkkg2vMgZ7r",
        "colab": {
          "base_uri": "https://localhost:8080/"
        },
        "outputId": "4a0810f7-8136-4c54-a575-6f8e7fde463a"
      },
      "execution_count": null,
      "outputs": [
        {
          "output_type": "execute_result",
          "data": {
            "text/plain": [
              "1842.9647279974652"
            ]
          },
          "metadata": {},
          "execution_count": 23
        }
      ]
    },
    {
      "cell_type": "markdown",
      "source": [
        "Passamos a coluna Price pelo filtro"
      ],
      "metadata": {
        "id": "V9h4Dq7xG2-A"
      }
    },
    {
      "cell_type": "code",
      "source": [
        "dataFrame = dataFrame[(dataFrame['Price']<hi_filter)]"
      ],
      "metadata": {
        "id": "lhP8kULGhXMS"
      },
      "execution_count": null,
      "outputs": []
    },
    {
      "cell_type": "code",
      "source": [
        "sns.boxplot(x=dataFrame['Price'])"
      ],
      "metadata": {
        "id": "KwDA0m-Jhm6s",
        "colab": {
          "base_uri": "https://localhost:8080/",
          "height": 466
        },
        "outputId": "409dda5b-c555-4eab-f702-2be1f2ec5e6f"
      },
      "execution_count": null,
      "outputs": [
        {
          "output_type": "execute_result",
          "data": {
            "text/plain": [
              "<Axes: xlabel='Price'>"
            ]
          },
          "metadata": {},
          "execution_count": 25
        },
        {
          "output_type": "display_data",
          "data": {
            "text/plain": [
              "<Figure size 640x480 with 1 Axes>"
            ],
            "image/png": "[encoded data removed]"
          },
          "metadata": {}
        }
      ]
    },
    {
      "cell_type": "markdown",
      "source": [
        "xInput = dataFrame.drop('Rating', axis=1):\n",
        "\n",
        "Cria um novo DataFrame chamado xInput excluindo a coluna 'Rating' do DataFrame original.\n",
        "axis=1 indica que a remoção deve ser feita ao longo das colunas.\n",
        "yOutput = dataFrame['Rating']:\n",
        "\n",
        "Cria uma Série chamada yOutput que contém apenas a coluna 'Rating' do DataFrame original."
      ],
      "metadata": {
        "id": "RJNH029YHU7P"
      }
    },
    {
      "cell_type": "code",
      "source": [
        "xInput = dataFrame.drop('Rating', axis=1)\n",
        "yOutput = dataFrame['Rating']"
      ],
      "metadata": {
        "id": "-AbP_6g8YA4B"
      },
      "execution_count": null,
      "outputs": []
    },
    {
      "cell_type": "markdown",
      "source": [
        "separando em treino e teste, 30% dos dados serão usados como conjunto de teste e 70% como conjunto de treinamento"
      ],
      "metadata": {
        "id": "oTWbFTZLH00t"
      }
    },
    {
      "cell_type": "code",
      "source": [
        "x_train, x_test, y_train, y_test = train_test_split(xInput, yOutput, test_size=0.3, random_state=50)"
      ],
      "metadata": {
        "id": "41j_FDRZX_44"
      },
      "execution_count": null,
      "outputs": []
    },
    {
      "cell_type": "code",
      "source": [
        "x_train, x_test, y_train, y_test"
      ],
      "metadata": {
        "id": "ZKWJK2eNaEyh",
        "colab": {
          "base_uri": "https://localhost:8080/"
        },
        "outputId": "7a003cdb-0db1-4635-8305-d05151551063"
      },
      "execution_count": null,
      "outputs": [
        {
          "output_type": "execute_result",
          "data": {
            "text/plain": [
              "(      Country  Region  Winery   Price  Year\n",
              " 2750     25.0   159.0  2502.0   35.99   7.0\n",
              " 7079     15.0   275.0  1405.0  212.43  12.0\n",
              " 3508     15.0   577.0  2701.0    6.97   6.0\n",
              " 5478      9.0   234.0   905.0   49.95  18.0\n",
              " 1304      3.0   211.0  1718.0   14.50  13.0\n",
              " ...       ...     ...     ...     ...   ...\n",
              " 8271      9.0   269.0  1172.0   23.20   6.0\n",
              " 6223      0.0   322.0   250.0    5.46   4.0\n",
              " 8333      9.0   392.0   778.0  160.84   6.0\n",
              " 6262     25.0   550.0  1348.0   13.15   9.0\n",
              " 5608     15.0   497.0  1062.0   26.90   7.0\n",
              " \n",
              " [6060 rows x 5 columns],\n",
              "       Country  Region  Winery   Price  Year\n",
              " 2836     25.0   560.0  2012.0    6.30  13.0\n",
              " 7423     15.0    58.0  1105.0   11.90  10.0\n",
              " 6507      9.0   462.0   558.0  175.10  21.0\n",
              " 6328     15.0    97.0  2277.0   13.25   6.0\n",
              " 6152      9.0   172.0  1249.0   38.89   7.0\n",
              " ...       ...     ...     ...     ...   ...\n",
              " 2587      9.0   311.0   553.0   68.14   7.0\n",
              " 5483      9.0    34.0  1210.0    9.90  10.0\n",
              " 8664      1.0   509.0  2691.0    6.21   4.0\n",
              " 4370     29.0   304.0   209.0   15.90   5.0\n",
              " 8287      9.0   580.0   768.0    9.50   6.0\n",
              " \n",
              " [2598 rows x 5 columns],\n",
              " 2750    4.1\n",
              " 7079    4.5\n",
              " 3508    3.7\n",
              " 5478    4.3\n",
              " 1304    3.2\n",
              "        ... \n",
              " 8271    3.8\n",
              " 6223    3.2\n",
              " 8333    4.3\n",
              " 6262    3.6\n",
              " 5608    3.9\n",
              " Name: Rating, Length: 6060, dtype: float64,\n",
              " 2836    3.6\n",
              " 7423    3.7\n",
              " 6507    4.3\n",
              " 6328    3.8\n",
              " 6152    4.2\n",
              "        ... \n",
              " 2587    4.1\n",
              " 5483    3.7\n",
              " 8664    3.5\n",
              " 4370    4.1\n",
              " 8287    3.8\n",
              " Name: Rating, Length: 2598, dtype: float64)"
            ]
          },
          "metadata": {},
          "execution_count": 28
        }
      ]
    },
    {
      "cell_type": "markdown",
      "source": [
        "Cria um modelo sequencial, primeira camada com 16 neuronios recebendo 5 informações de entrada\n",
        "segunda camada com 8 neuronios, sem necessidade de informar as informções de entrada\n",
        "terceira camada com 4 neuronios\n",
        "quarta camada, said linear, utilizado qaundo busca um valor numerico"
      ],
      "metadata": {
        "id": "kSOP5JmQInM9"
      }
    },
    {
      "cell_type": "code",
      "source": [
        "model=Sequential()\n",
        "model.add(Dense(16,input_dim=5,activation=\"relu\"))\n",
        "model.add(Dense(8,activation=\"relu\"))\n",
        "model.add(Dense(4,activation=\"relu\"))\n",
        "model.add(Dense(1,activation=\"linear\"))"
      ],
      "metadata": {
        "id": "D7iJLNZDAl_S"
      },
      "execution_count": null,
      "outputs": []
    },
    {
      "cell_type": "markdown",
      "source": [
        "loss=\"mean_squared_error\":\n",
        "\n",
        "Isso define a função de perda que será otimizada durante o treinamento. No caso, é a média dos quadrados dos erros (Mean Squared Error ou MSE), que é uma métrica comum para problemas de regressão.]\n",
        "\n",
        "optimizer=\"adam\":\n",
        "\n",
        "Isso especifica o otimizador a ser usado durante o treinamento. O \"adam\" é um otimizador popular que ajusta adaptativamente as taxas de aprendizado durante o treinamento. Ele é eficaz em muitos cenários e frequentemente usado como uma escolha padrão.\n",
        "\n",
        "metrics=[\"mae\"]:\n",
        "\n",
        "Isso define as métricas que serão avaliadas durante o treinamento e avaliação do modelo. Neste caso, a métrica é o erro absoluto médio (Mean Absolute Error ou MAE), que é outra métrica comum para problemas de regressão."
      ],
      "metadata": {
        "id": "wDSJWxPaJc7L"
      }
    },
    {
      "cell_type": "code",
      "source": [
        "model.compile(loss=\"mean_squared_error\",optimizer=\"adam\",metrics=[\"mae\"])"
      ],
      "metadata": {
        "id": "O_P2iDQ_D0Dt"
      },
      "execution_count": null,
      "outputs": []
    },
    {
      "cell_type": "markdown",
      "source": [
        "Treino"
      ],
      "metadata": {
        "id": "ug93C5qXJ8oi"
      }
    },
    {
      "cell_type": "code",
      "source": [
        "history=model.fit(x_train,y_train,epochs=150, batch_size=16, verbose=1, validation_data=(x_test,y_test))"
      ],
      "metadata": {
        "colab": {
          "base_uri": "https://localhost:8080/"
        },
        "id": "xMyuAgfwEY-U",
        "outputId": "44715781-e83a-41ba-bbd7-ce09e94edcec"
      },
      "execution_count": null,
      "outputs": [
        {
          "output_type": "stream",
          "name": "stdout",
          "text": [
            "Epoch 1/150\n",
            "379/379 [==============================] - 5s 6ms/step - loss: 6209.5200 - mae: 38.7160 - val_loss: 118.9196 - val_mae: 7.2511\n",
            "Epoch 2/150\n",
            "379/379 [==============================] - 2s 6ms/step - loss: 59.1994 - mae: 5.4738 - val_loss: 39.4674 - val_mae: 4.6947\n",
            "Epoch 3/150\n",
            "379/379 [==============================] - 2s 6ms/step - loss: 29.1327 - mae: 4.2238 - val_loss: 26.4864 - val_mae: 3.9115\n",
            "Epoch 4/150\n",
            "379/379 [==============================] - 3s 8ms/step - loss: 20.5516 - mae: 3.6055 - val_loss: 19.2300 - val_mae: 3.3720\n",
            "Epoch 5/150\n",
            "379/379 [==============================] - 3s 8ms/step - loss: 15.7037 - mae: 3.1596 - val_loss: 14.0398 - val_mae: 2.9124\n",
            "Epoch 6/150\n",
            "379/379 [==============================] - 2s 4ms/step - loss: 11.7890 - mae: 2.7121 - val_loss: 11.5386 - val_mae: 2.6168\n",
            "Epoch 7/150\n",
            "379/379 [==============================] - 2s 4ms/step - loss: 7.6952 - mae: 2.1463 - val_loss: 6.2398 - val_mae: 1.8211\n",
            "Epoch 8/150\n",
            "379/379 [==============================] - 2s 5ms/step - loss: 4.8237 - mae: 1.6444 - val_loss: 4.0683 - val_mae: 1.4164\n",
            "Epoch 9/150\n",
            "379/379 [==============================] - 1s 3ms/step - loss: 3.5527 - mae: 1.4018 - val_loss: 3.1339 - val_mae: 1.2446\n",
            "Epoch 10/150\n",
            "379/379 [==============================] - 1s 2ms/step - loss: 2.8634 - mae: 1.2501 - val_loss: 2.8097 - val_mae: 1.2044\n",
            "Epoch 11/150\n",
            "379/379 [==============================] - 1s 3ms/step - loss: 2.5023 - mae: 1.1606 - val_loss: 2.3113 - val_mae: 1.0933\n",
            "Epoch 12/150\n",
            "379/379 [==============================] - 1s 3ms/step - loss: 2.2304 - mae: 1.1091 - val_loss: 1.9659 - val_mae: 0.9678\n",
            "Epoch 13/150\n",
            "379/379 [==============================] - 1s 3ms/step - loss: 2.0428 - mae: 1.0762 - val_loss: 2.0894 - val_mae: 1.0807\n",
            "Epoch 14/150\n",
            "379/379 [==============================] - 1s 3ms/step - loss: 1.6897 - mae: 0.9482 - val_loss: 1.5035 - val_mae: 0.8622\n",
            "Epoch 15/150\n",
            "379/379 [==============================] - 1s 3ms/step - loss: 1.7512 - mae: 0.9859 - val_loss: 1.3776 - val_mae: 0.8106\n",
            "Epoch 16/150\n",
            "379/379 [==============================] - 1s 2ms/step - loss: 1.5384 - mae: 0.9131 - val_loss: 1.2573 - val_mae: 0.7544\n",
            "Epoch 17/150\n",
            "379/379 [==============================] - 1s 2ms/step - loss: 1.3758 - mae: 0.8693 - val_loss: 2.5456 - val_mae: 1.3297\n",
            "Epoch 18/150\n",
            "379/379 [==============================] - 1s 2ms/step - loss: 1.6392 - mae: 0.9541 - val_loss: 0.9436 - val_mae: 0.6329\n",
            "Epoch 19/150\n",
            "379/379 [==============================] - 1s 3ms/step - loss: 1.7423 - mae: 0.9329 - val_loss: 4.7496 - val_mae: 1.7623\n",
            "Epoch 20/150\n",
            "379/379 [==============================] - 1s 3ms/step - loss: 1.1709 - mae: 0.8103 - val_loss: 1.3235 - val_mae: 0.9174\n",
            "Epoch 21/150\n",
            "379/379 [==============================] - 1s 3ms/step - loss: 1.3643 - mae: 0.8724 - val_loss: 3.2342 - val_mae: 1.5352\n",
            "Epoch 22/150\n",
            "379/379 [==============================] - 1s 3ms/step - loss: 2.0501 - mae: 1.0253 - val_loss: 0.9844 - val_mae: 0.7734\n",
            "Epoch 23/150\n",
            "379/379 [==============================] - 1s 3ms/step - loss: 1.3291 - mae: 0.8026 - val_loss: 0.5771 - val_mae: 0.5227\n",
            "Epoch 24/150\n",
            "379/379 [==============================] - 1s 3ms/step - loss: 1.1308 - mae: 0.7781 - val_loss: 0.8431 - val_mae: 0.7232\n",
            "Epoch 25/150\n",
            "379/379 [==============================] - 1s 3ms/step - loss: 1.1034 - mae: 0.7694 - val_loss: 0.6419 - val_mae: 0.6196\n",
            "Epoch 26/150\n",
            "379/379 [==============================] - 1s 3ms/step - loss: 0.9677 - mae: 0.7418 - val_loss: 0.4735 - val_mae: 0.4819\n",
            "Epoch 27/150\n",
            "379/379 [==============================] - 1s 3ms/step - loss: 1.3949 - mae: 0.8410 - val_loss: 0.8357 - val_mae: 0.7085\n",
            "Epoch 28/150\n",
            "379/379 [==============================] - 1s 3ms/step - loss: 1.0872 - mae: 0.7514 - val_loss: 2.2211 - val_mae: 1.3044\n",
            "Epoch 29/150\n",
            "379/379 [==============================] - 1s 3ms/step - loss: 2.3876 - mae: 0.8256 - val_loss: 0.5569 - val_mae: 0.6069\n",
            "Epoch 30/150\n",
            "379/379 [==============================] - 1s 2ms/step - loss: 0.5183 - mae: 0.5293 - val_loss: 1.1893 - val_mae: 0.9493\n",
            "Epoch 31/150\n",
            "379/379 [==============================] - 1s 3ms/step - loss: 0.8105 - mae: 0.6162 - val_loss: 1.4788 - val_mae: 1.0750\n",
            "Epoch 32/150\n",
            "379/379 [==============================] - 1s 3ms/step - loss: 1.2710 - mae: 0.7396 - val_loss: 0.2817 - val_mae: 0.3706\n",
            "Epoch 33/150\n",
            "379/379 [==============================] - 1s 3ms/step - loss: 0.8931 - mae: 0.6884 - val_loss: 0.7834 - val_mae: 0.7535\n",
            "Epoch 34/150\n",
            "379/379 [==============================] - 1s 2ms/step - loss: 0.8761 - mae: 0.6320 - val_loss: 0.3095 - val_mae: 0.4026\n",
            "Epoch 35/150\n",
            "379/379 [==============================] - 1s 2ms/step - loss: 1.2137 - mae: 0.7500 - val_loss: 0.3380 - val_mae: 0.4643\n",
            "Epoch 36/150\n",
            "379/379 [==============================] - 1s 2ms/step - loss: 0.4449 - mae: 0.4827 - val_loss: 0.2921 - val_mae: 0.3563\n",
            "Epoch 37/150\n",
            "379/379 [==============================] - 1s 3ms/step - loss: 0.4691 - mae: 0.4757 - val_loss: 0.3135 - val_mae: 0.4044\n",
            "Epoch 38/150\n",
            "379/379 [==============================] - 1s 3ms/step - loss: 0.9361 - mae: 0.6517 - val_loss: 0.1694 - val_mae: 0.2691\n",
            "Epoch 39/150\n",
            "379/379 [==============================] - 1s 3ms/step - loss: 1.2632 - mae: 0.7427 - val_loss: 1.3515 - val_mae: 1.0270\n",
            "Epoch 40/150\n",
            "379/379 [==============================] - 1s 3ms/step - loss: 0.5699 - mae: 0.5209 - val_loss: 0.6789 - val_mae: 0.6983\n",
            "Epoch 41/150\n",
            "379/379 [==============================] - 1s 3ms/step - loss: 1.6191 - mae: 0.7576 - val_loss: 0.1749 - val_mae: 0.3095\n",
            "Epoch 42/150\n",
            "379/379 [==============================] - 1s 3ms/step - loss: 0.3779 - mae: 0.4328 - val_loss: 1.2294 - val_mae: 0.9247\n",
            "Epoch 43/150\n",
            "379/379 [==============================] - 1s 2ms/step - loss: 0.3524 - mae: 0.4383 - val_loss: 0.6656 - val_mae: 0.6989\n",
            "Epoch 44/150\n",
            "379/379 [==============================] - 1s 3ms/step - loss: 0.6124 - mae: 0.5587 - val_loss: 0.7850 - val_mae: 0.7634\n",
            "Epoch 45/150\n",
            "379/379 [==============================] - 1s 3ms/step - loss: 0.6332 - mae: 0.5836 - val_loss: 0.2794 - val_mae: 0.4070\n",
            "Epoch 46/150\n",
            "379/379 [==============================] - 1s 2ms/step - loss: 0.6673 - mae: 0.6054 - val_loss: 0.6780 - val_mae: 0.6760\n",
            "Epoch 47/150\n",
            "379/379 [==============================] - 1s 2ms/step - loss: 0.4674 - mae: 0.5020 - val_loss: 0.4681 - val_mae: 0.5770\n",
            "Epoch 48/150\n",
            "379/379 [==============================] - 1s 3ms/step - loss: 0.4937 - mae: 0.4779 - val_loss: 0.1715 - val_mae: 0.2847\n",
            "Epoch 49/150\n",
            "379/379 [==============================] - 1s 3ms/step - loss: 1.0209 - mae: 0.6786 - val_loss: 0.3306 - val_mae: 0.4806\n",
            "Epoch 50/150\n",
            "379/379 [==============================] - 1s 3ms/step - loss: 0.6005 - mae: 0.5609 - val_loss: 1.7022 - val_mae: 1.1527\n",
            "Epoch 51/150\n",
            "379/379 [==============================] - 1s 3ms/step - loss: 0.5261 - mae: 0.5116 - val_loss: 0.4603 - val_mae: 0.5681\n",
            "Epoch 52/150\n",
            "379/379 [==============================] - 1s 3ms/step - loss: 3.9173 - mae: 1.3464 - val_loss: 7.1069 - val_mae: 2.4248\n",
            "Epoch 53/150\n",
            "379/379 [==============================] - 1s 2ms/step - loss: 2.9605 - mae: 1.3273 - val_loss: 0.5600 - val_mae: 0.5905\n",
            "Epoch 54/150\n",
            "379/379 [==============================] - 1s 2ms/step - loss: 0.4892 - mae: 0.5399 - val_loss: 0.4071 - val_mae: 0.4975\n",
            "Epoch 55/150\n",
            "379/379 [==============================] - 1s 2ms/step - loss: 0.4336 - mae: 0.5106 - val_loss: 0.3680 - val_mae: 0.4738\n",
            "Epoch 56/150\n",
            "379/379 [==============================] - 1s 3ms/step - loss: 0.3858 - mae: 0.4802 - val_loss: 0.3087 - val_mae: 0.4305\n",
            "Epoch 57/150\n",
            "379/379 [==============================] - 1s 2ms/step - loss: 0.3352 - mae: 0.4489 - val_loss: 0.2785 - val_mae: 0.4115\n",
            "Epoch 58/150\n",
            "379/379 [==============================] - 1s 2ms/step - loss: 0.2986 - mae: 0.4245 - val_loss: 0.2421 - val_mae: 0.3748\n",
            "Epoch 59/150\n",
            "379/379 [==============================] - 1s 2ms/step - loss: 0.2529 - mae: 0.3899 - val_loss: 0.2383 - val_mae: 0.3758\n",
            "Epoch 60/150\n",
            "379/379 [==============================] - 1s 2ms/step - loss: 0.2268 - mae: 0.3712 - val_loss: 0.1780 - val_mae: 0.3243\n",
            "Epoch 61/150\n",
            "379/379 [==============================] - 1s 2ms/step - loss: 0.1754 - mae: 0.3270 - val_loss: 0.2544 - val_mae: 0.4244\n",
            "Epoch 62/150\n",
            "379/379 [==============================] - 1s 3ms/step - loss: 0.1564 - mae: 0.3109 - val_loss: 0.1444 - val_mae: 0.3004\n",
            "Epoch 63/150\n",
            "379/379 [==============================] - 1s 2ms/step - loss: 0.1613 - mae: 0.3120 - val_loss: 0.1537 - val_mae: 0.2941\n",
            "Epoch 64/150\n",
            "379/379 [==============================] - 1s 4ms/step - loss: 0.1654 - mae: 0.3124 - val_loss: 0.1254 - val_mae: 0.2751\n",
            "Epoch 65/150\n",
            "379/379 [==============================] - 1s 4ms/step - loss: 0.1434 - mae: 0.2933 - val_loss: 0.2316 - val_mae: 0.3619\n",
            "Epoch 66/150\n",
            "379/379 [==============================] - 1s 3ms/step - loss: 0.1230 - mae: 0.2736 - val_loss: 0.1529 - val_mae: 0.3230\n",
            "Epoch 67/150\n",
            "379/379 [==============================] - 1s 2ms/step - loss: 0.1381 - mae: 0.2816 - val_loss: 0.2524 - val_mae: 0.3889\n",
            "Epoch 68/150\n",
            "379/379 [==============================] - 1s 2ms/step - loss: 0.1451 - mae: 0.2892 - val_loss: 0.1547 - val_mae: 0.2875\n",
            "Epoch 69/150\n",
            "379/379 [==============================] - 1s 3ms/step - loss: 0.1633 - mae: 0.3014 - val_loss: 0.2095 - val_mae: 0.3489\n",
            "Epoch 70/150\n",
            "379/379 [==============================] - 1s 2ms/step - loss: 0.1420 - mae: 0.2811 - val_loss: 0.0863 - val_mae: 0.2290\n",
            "Epoch 71/150\n",
            "379/379 [==============================] - 1s 2ms/step - loss: 0.1074 - mae: 0.2523 - val_loss: 0.0923 - val_mae: 0.2438\n",
            "Epoch 72/150\n",
            "379/379 [==============================] - 1s 3ms/step - loss: 0.1102 - mae: 0.2530 - val_loss: 0.0864 - val_mae: 0.2282\n",
            "Epoch 73/150\n",
            "379/379 [==============================] - 1s 3ms/step - loss: 0.1283 - mae: 0.2680 - val_loss: 0.2797 - val_mae: 0.3327\n",
            "Epoch 74/150\n",
            "379/379 [==============================] - 1s 3ms/step - loss: 0.1410 - mae: 0.2751 - val_loss: 0.1151 - val_mae: 0.2503\n",
            "Epoch 75/150\n",
            "379/379 [==============================] - 1s 3ms/step - loss: 0.1150 - mae: 0.2539 - val_loss: 0.0791 - val_mae: 0.2199\n",
            "Epoch 76/150\n",
            "379/379 [==============================] - 1s 3ms/step - loss: 0.0891 - mae: 0.2290 - val_loss: 0.0860 - val_mae: 0.2352\n",
            "Epoch 77/150\n",
            "379/379 [==============================] - 1s 3ms/step - loss: 0.0960 - mae: 0.2303 - val_loss: 0.3688 - val_mae: 0.3528\n",
            "Epoch 78/150\n",
            "379/379 [==============================] - 1s 3ms/step - loss: 0.1291 - mae: 0.2646 - val_loss: 0.2120 - val_mae: 0.3758\n",
            "Epoch 79/150\n",
            "379/379 [==============================] - 1s 3ms/step - loss: 0.0929 - mae: 0.2316 - val_loss: 0.0653 - val_mae: 0.1984\n",
            "Epoch 80/150\n",
            "379/379 [==============================] - 1s 3ms/step - loss: 0.0934 - mae: 0.2299 - val_loss: 0.0574 - val_mae: 0.1865\n",
            "Epoch 81/150\n",
            "379/379 [==============================] - 1s 2ms/step - loss: 0.1259 - mae: 0.2499 - val_loss: 0.3735 - val_mae: 0.5152\n",
            "Epoch 82/150\n",
            "379/379 [==============================] - 1s 2ms/step - loss: 0.1235 - mae: 0.2494 - val_loss: 0.0673 - val_mae: 0.1991\n",
            "Epoch 83/150\n",
            "379/379 [==============================] - 1s 3ms/step - loss: 0.0894 - mae: 0.2224 - val_loss: 0.1501 - val_mae: 0.2588\n",
            "Epoch 84/150\n",
            "379/379 [==============================] - 1s 2ms/step - loss: 0.0826 - mae: 0.2158 - val_loss: 0.0602 - val_mae: 0.1884\n",
            "Epoch 85/150\n",
            "379/379 [==============================] - 1s 3ms/step - loss: 0.0781 - mae: 0.2104 - val_loss: 0.1174 - val_mae: 0.2378\n",
            "Epoch 86/150\n",
            "379/379 [==============================] - 1s 3ms/step - loss: 0.1288 - mae: 0.2424 - val_loss: 0.1648 - val_mae: 0.3058\n",
            "Epoch 87/150\n",
            "379/379 [==============================] - 1s 2ms/step - loss: 0.0696 - mae: 0.2026 - val_loss: 0.0560 - val_mae: 0.1860\n",
            "Epoch 88/150\n",
            "379/379 [==============================] - 1s 3ms/step - loss: 0.0632 - mae: 0.1937 - val_loss: 0.0666 - val_mae: 0.2033\n",
            "Epoch 89/150\n",
            "379/379 [==============================] - 1s 3ms/step - loss: 0.0729 - mae: 0.1994 - val_loss: 0.0516 - val_mae: 0.1770\n",
            "Epoch 90/150\n",
            "379/379 [==============================] - 1s 4ms/step - loss: 0.0649 - mae: 0.1953 - val_loss: 0.0539 - val_mae: 0.1797\n",
            "Epoch 91/150\n",
            "379/379 [==============================] - 1s 3ms/step - loss: 0.0614 - mae: 0.1909 - val_loss: 0.0553 - val_mae: 0.1851\n",
            "Epoch 92/150\n",
            "379/379 [==============================] - 1s 2ms/step - loss: 0.0651 - mae: 0.1937 - val_loss: 0.0925 - val_mae: 0.2166\n",
            "Epoch 93/150\n",
            "379/379 [==============================] - 1s 3ms/step - loss: 0.0640 - mae: 0.1931 - val_loss: 0.0484 - val_mae: 0.1712\n",
            "Epoch 94/150\n",
            "379/379 [==============================] - 1s 2ms/step - loss: 0.0555 - mae: 0.1826 - val_loss: 0.0473 - val_mae: 0.1690\n",
            "Epoch 95/150\n",
            "379/379 [==============================] - 1s 3ms/step - loss: 0.0531 - mae: 0.1792 - val_loss: 0.0486 - val_mae: 0.1731\n",
            "Epoch 96/150\n",
            "379/379 [==============================] - 1s 3ms/step - loss: 0.0554 - mae: 0.1830 - val_loss: 0.0525 - val_mae: 0.1778\n",
            "Epoch 97/150\n",
            "379/379 [==============================] - 1s 2ms/step - loss: 0.0545 - mae: 0.1818 - val_loss: 0.0506 - val_mae: 0.1774\n",
            "Epoch 98/150\n",
            "379/379 [==============================] - 1s 2ms/step - loss: 0.0520 - mae: 0.1771 - val_loss: 0.0590 - val_mae: 0.1941\n",
            "Epoch 99/150\n",
            "379/379 [==============================] - 1s 2ms/step - loss: 0.0547 - mae: 0.1822 - val_loss: 0.0657 - val_mae: 0.2081\n",
            "Epoch 100/150\n",
            "379/379 [==============================] - 1s 2ms/step - loss: 0.0505 - mae: 0.1748 - val_loss: 0.0473 - val_mae: 0.1688\n",
            "Epoch 101/150\n",
            "379/379 [==============================] - 1s 2ms/step - loss: 0.0517 - mae: 0.1770 - val_loss: 0.0449 - val_mae: 0.1639\n",
            "Epoch 102/150\n",
            "379/379 [==============================] - 1s 3ms/step - loss: 0.0508 - mae: 0.1764 - val_loss: 0.0459 - val_mae: 0.1681\n",
            "Epoch 103/150\n",
            "379/379 [==============================] - 1s 3ms/step - loss: 0.0506 - mae: 0.1750 - val_loss: 0.0442 - val_mae: 0.1625\n",
            "Epoch 104/150\n",
            "379/379 [==============================] - 1s 3ms/step - loss: 0.0474 - mae: 0.1691 - val_loss: 0.0454 - val_mae: 0.1669\n",
            "Epoch 105/150\n",
            "379/379 [==============================] - 1s 2ms/step - loss: 0.0503 - mae: 0.1746 - val_loss: 0.0446 - val_mae: 0.1628\n",
            "Epoch 106/150\n",
            "379/379 [==============================] - 2s 4ms/step - loss: 0.0489 - mae: 0.1725 - val_loss: 0.0452 - val_mae: 0.1663\n",
            "Epoch 107/150\n",
            "379/379 [==============================] - 2s 4ms/step - loss: 0.0478 - mae: 0.1698 - val_loss: 0.0448 - val_mae: 0.1630\n",
            "Epoch 108/150\n",
            "379/379 [==============================] - 2s 4ms/step - loss: 0.0478 - mae: 0.1698 - val_loss: 0.0447 - val_mae: 0.1666\n",
            "Epoch 109/150\n",
            "379/379 [==============================] - 1s 3ms/step - loss: 0.0482 - mae: 0.1705 - val_loss: 0.0457 - val_mae: 0.1673\n",
            "Epoch 110/150\n",
            "379/379 [==============================] - 1s 2ms/step - loss: 0.0486 - mae: 0.1715 - val_loss: 0.0455 - val_mae: 0.1685\n",
            "Epoch 111/150\n",
            "379/379 [==============================] - 1s 2ms/step - loss: 0.0473 - mae: 0.1688 - val_loss: 0.0461 - val_mae: 0.1688\n",
            "Epoch 112/150\n",
            "379/379 [==============================] - 1s 2ms/step - loss: 0.0474 - mae: 0.1689 - val_loss: 0.0423 - val_mae: 0.1599\n",
            "Epoch 113/150\n",
            "379/379 [==============================] - 1s 3ms/step - loss: 0.0472 - mae: 0.1690 - val_loss: 0.0423 - val_mae: 0.1596\n",
            "Epoch 114/150\n",
            "379/379 [==============================] - 1s 3ms/step - loss: 0.0476 - mae: 0.1700 - val_loss: 0.0435 - val_mae: 0.1640\n",
            "Epoch 115/150\n",
            "379/379 [==============================] - 1s 3ms/step - loss: 0.0459 - mae: 0.1663 - val_loss: 0.0434 - val_mae: 0.1628\n",
            "Epoch 116/150\n",
            "379/379 [==============================] - 1s 2ms/step - loss: 0.0472 - mae: 0.1688 - val_loss: 0.0426 - val_mae: 0.1599\n",
            "Epoch 117/150\n",
            "379/379 [==============================] - 1s 2ms/step - loss: 0.0471 - mae: 0.1686 - val_loss: 0.0420 - val_mae: 0.1585\n",
            "Epoch 118/150\n",
            "379/379 [==============================] - 1s 3ms/step - loss: 0.0461 - mae: 0.1671 - val_loss: 0.0413 - val_mae: 0.1578\n",
            "Epoch 119/150\n",
            "379/379 [==============================] - 1s 3ms/step - loss: 0.0459 - mae: 0.1670 - val_loss: 0.0415 - val_mae: 0.1578\n",
            "Epoch 120/150\n",
            "379/379 [==============================] - 1s 3ms/step - loss: 0.0463 - mae: 0.1674 - val_loss: 0.0465 - val_mae: 0.1680\n",
            "Epoch 121/150\n",
            "379/379 [==============================] - 1s 3ms/step - loss: 0.0473 - mae: 0.1693 - val_loss: 0.0417 - val_mae: 0.1587\n",
            "Epoch 122/150\n",
            "379/379 [==============================] - 1s 2ms/step - loss: 0.0462 - mae: 0.1667 - val_loss: 0.0424 - val_mae: 0.1616\n",
            "Epoch 123/150\n",
            "379/379 [==============================] - 1s 3ms/step - loss: 0.0458 - mae: 0.1656 - val_loss: 0.0470 - val_mae: 0.1687\n",
            "Epoch 124/150\n",
            "379/379 [==============================] - 1s 3ms/step - loss: 0.0456 - mae: 0.1663 - val_loss: 0.0423 - val_mae: 0.1584\n",
            "Epoch 125/150\n",
            "379/379 [==============================] - 1s 3ms/step - loss: 0.0460 - mae: 0.1671 - val_loss: 0.0414 - val_mae: 0.1582\n",
            "Epoch 126/150\n",
            "379/379 [==============================] - 1s 3ms/step - loss: 0.0462 - mae: 0.1677 - val_loss: 0.0428 - val_mae: 0.1627\n",
            "Epoch 127/150\n",
            "379/379 [==============================] - 1s 4ms/step - loss: 0.0461 - mae: 0.1669 - val_loss: 0.0411 - val_mae: 0.1573\n",
            "Epoch 128/150\n",
            "379/379 [==============================] - 1s 3ms/step - loss: 0.0459 - mae: 0.1667 - val_loss: 0.0430 - val_mae: 0.1623\n",
            "Epoch 129/150\n",
            "379/379 [==============================] - 1s 3ms/step - loss: 0.0459 - mae: 0.1673 - val_loss: 0.0421 - val_mae: 0.1587\n",
            "Epoch 130/150\n",
            "379/379 [==============================] - 1s 4ms/step - loss: 0.0456 - mae: 0.1660 - val_loss: 0.0416 - val_mae: 0.1583\n",
            "Epoch 131/150\n",
            "379/379 [==============================] - 1s 3ms/step - loss: 0.0446 - mae: 0.1648 - val_loss: 0.0437 - val_mae: 0.1637\n",
            "Epoch 132/150\n",
            "379/379 [==============================] - 1s 2ms/step - loss: 0.0452 - mae: 0.1651 - val_loss: 0.0451 - val_mae: 0.1642\n",
            "Epoch 133/150\n",
            "379/379 [==============================] - 1s 3ms/step - loss: 0.0468 - mae: 0.1684 - val_loss: 0.0600 - val_mae: 0.1979\n",
            "Epoch 134/150\n",
            "379/379 [==============================] - 1s 2ms/step - loss: 0.0452 - mae: 0.1658 - val_loss: 0.0407 - val_mae: 0.1571\n",
            "Epoch 135/150\n",
            "379/379 [==============================] - 1s 3ms/step - loss: 0.0448 - mae: 0.1648 - val_loss: 0.0416 - val_mae: 0.1592\n",
            "Epoch 136/150\n",
            "379/379 [==============================] - 1s 3ms/step - loss: 0.0442 - mae: 0.1638 - val_loss: 0.0408 - val_mae: 0.1574\n",
            "Epoch 137/150\n",
            "379/379 [==============================] - 1s 3ms/step - loss: 0.0449 - mae: 0.1653 - val_loss: 0.0415 - val_mae: 0.1594\n",
            "Epoch 138/150\n",
            "379/379 [==============================] - 1s 4ms/step - loss: 0.0442 - mae: 0.1634 - val_loss: 0.0460 - val_mae: 0.1686\n",
            "Epoch 139/150\n",
            "379/379 [==============================] - 1s 3ms/step - loss: 0.0448 - mae: 0.1643 - val_loss: 0.0404 - val_mae: 0.1569\n",
            "Epoch 140/150\n",
            "379/379 [==============================] - 1s 3ms/step - loss: 0.0453 - mae: 0.1652 - val_loss: 0.0450 - val_mae: 0.1672\n",
            "Epoch 141/150\n",
            "379/379 [==============================] - 1s 3ms/step - loss: 0.0440 - mae: 0.1625 - val_loss: 0.0434 - val_mae: 0.1645\n",
            "Epoch 142/150\n",
            "379/379 [==============================] - 1s 3ms/step - loss: 0.0447 - mae: 0.1647 - val_loss: 0.0404 - val_mae: 0.1567\n",
            "Epoch 143/150\n",
            "379/379 [==============================] - 1s 2ms/step - loss: 0.0442 - mae: 0.1630 - val_loss: 0.0426 - val_mae: 0.1601\n",
            "Epoch 144/150\n",
            "379/379 [==============================] - 1s 2ms/step - loss: 0.0442 - mae: 0.1635 - val_loss: 0.0440 - val_mae: 0.1620\n",
            "Epoch 145/150\n",
            "379/379 [==============================] - 1s 2ms/step - loss: 0.0447 - mae: 0.1646 - val_loss: 0.0421 - val_mae: 0.1595\n",
            "Epoch 146/150\n",
            "379/379 [==============================] - 1s 2ms/step - loss: 0.0446 - mae: 0.1645 - val_loss: 0.0422 - val_mae: 0.1615\n",
            "Epoch 147/150\n",
            "379/379 [==============================] - 1s 3ms/step - loss: 0.0446 - mae: 0.1642 - val_loss: 0.0411 - val_mae: 0.1585\n",
            "Epoch 148/150\n",
            "379/379 [==============================] - 1s 2ms/step - loss: 0.0449 - mae: 0.1646 - val_loss: 0.0437 - val_mae: 0.1641\n",
            "Epoch 149/150\n",
            "379/379 [==============================] - 1s 3ms/step - loss: 0.0444 - mae: 0.1630 - val_loss: 0.0416 - val_mae: 0.1576\n",
            "Epoch 150/150\n",
            "379/379 [==============================] - 1s 3ms/step - loss: 0.0438 - mae: 0.1628 - val_loss: 0.0430 - val_mae: 0.1608\n"
          ]
        }
      ]
    },
    {
      "cell_type": "code",
      "source": [
        "plt.figure(figsize=(12,6))\n",
        "plt.subplot(1,2,1)\n",
        "plt.plot(history.history[\"loss\"],label=\"Trainnig Loss\")\n",
        "plt.plot(history.history[\"val_loss\"],label=\"Validation Loss\")\n",
        "plt.title(\"hitorico de perda\")\n",
        "plt.xlabel(\"epocas\")\n",
        "plt.ylabel(\"perdas\")\n",
        "plt.legend()\n",
        "\n",
        "plt.subplot(1,2,2)\n",
        "plt.plot(history.history[\"mae\"],label=\"Trainnig mae\")\n",
        "plt.plot(history.history[\"val_mae\"],label=\"Validation mae\")\n",
        "plt.title(\"hitorico de acuracias\")\n",
        "plt.xlabel(\"epocas\")\n",
        "plt.ylabel(\"mae\")\n",
        "plt.legend()\n",
        "\n",
        "plt.tight_layout()\n",
        "plt.show()"
      ],
      "metadata": {
        "colab": {
          "base_uri": "https://localhost:8080/",
          "height": 566
        },
        "id": "U0C4xF36Famg",
        "outputId": "6d224de8-b94b-435d-c2b7-58e83378c478"
      },
      "execution_count": null,
      "outputs": [
        {
          "output_type": "display_data",
          "data": {
            "text/plain": [
              "<Figure size 1200x600 with 2 Axes>"
            ],
            "image/png": "[encoded data removed]"
          },
          "metadata": {}
        }
      ]
    },
    {
      "cell_type": "code",
      "source": [
        "loss = model.evaluate(x_test,y_test)[0]\n",
        "print(\"Loss do modelo {}\".format (loss))"
      ],
      "metadata": {
        "id": "B0xE1q70G2w9",
        "colab": {
          "base_uri": "https://localhost:8080/"
        },
        "outputId": "9122697a-6eaa-4272-9e49-4a3128f73215"
      },
      "execution_count": null,
      "outputs": [
        {
          "output_type": "stream",
          "name": "stdout",
          "text": [
            "82/82 [==============================] - 0s 2ms/step - loss: 0.0430 - mae: 0.1608\n",
            "Loss do modelo 0.042981021106243134\n"
          ]
        }
      ]
    },
    {
      "cell_type": "code",
      "source": [
        "Country_encoder.categories_"
      ],
      "metadata": {
        "id": "G_yumzPgWWKW",
        "colab": {
          "base_uri": "https://localhost:8080/"
        },
        "outputId": "ea061cec-6a14-4877-a65a-ca90b8e6f4c4"
      },
      "execution_count": null,
      "outputs": [
        {
          "output_type": "execute_result",
          "data": {
            "text/plain": [
              "[array(['Argentina', 'Australia', 'Austria', 'Brazil', 'Bulgaria',\n",
              "        'Canada', 'Chile', 'China', 'Croatia', 'France', 'Georgia',\n",
              "        'Germany', 'Greece', 'Hungary', 'Israel', 'Italy', 'Lebanon',\n",
              "        'Mexico', 'Moldova', 'New Zealand', 'Portugal', 'Romania',\n",
              "        'Slovakia', 'Slovenia', 'South Africa', 'Spain', 'Switzerland',\n",
              "        'Turkey', 'United States', 'Uruguay', 'unknown'], dtype=object)]"
            ]
          },
          "metadata": {},
          "execution_count": 34
        }
      ]
    },
    {
      "cell_type": "code",
      "source": [
        "Region_encoder.categories_"
      ],
      "metadata": {
        "id": "uVbdksCEYaln",
        "colab": {
          "base_uri": "https://localhost:8080/"
        },
        "outputId": "1824afab-17f0-4f24-807f-9e4209513854"
      },
      "execution_count": null,
      "outputs": [
        {
          "output_type": "execute_result",
          "data": {
            "text/plain": [
              "[array(['Aargau', 'Abruzzo', 'Aconcagua', 'Aconcagua Costa',\n",
              "        'Aconcagua Valley', 'Adelaide Hills', 'Agio Oros',\n",
              "        'Aglianico del Vulture', 'Agrelo', 'Ahr', 'Ahrweiler', 'Aigle',\n",
              "        'Alenquer', 'Alentejano', 'Alentejo', 'Alexander Valley',\n",
              "        'Alghero', 'Alicante', 'Almansa', 'Almeirim', 'Aloxe-Corton',\n",
              "        'Alsace', 'Amarone della Valpolicella',\n",
              "        'Amarone della Valpolicella Classico',\n",
              "        'Amarone della Valpolicella Valpantena', 'Anderson Valley',\n",
              "        'Aragón', 'Arbois', 'Ardèche', 'Arroyo Seco', 'Aude', 'Baden',\n",
              "        'Bairrada', 'Bajo Aragón', 'Bandol', 'Barbaresco',\n",
              "        \"Barbera d'Alba\", \"Barbera d'Asti\", 'Barbera del Monferrato',\n",
              "        'Barbera del Monferrato Superiore', 'Barco Reale di Carmignano',\n",
              "        'Bardolino', 'Bardolino Classico', 'Bardolino Superiore', 'Barolo',\n",
              "        'Barossa', 'Barossa Valley', 'Beaujolais', 'Beaujolais-Villages',\n",
              "        \"Beaune 1er Cru 'Aux Cras'\", \"Beaune 1er Cru 'Champs Pimont'\",\n",
              "        \"Beaune 1er Cru 'Le Clos des Mouches'\",\n",
              "        \"Beaune 1er Cru 'Les Grèves'\", 'Beaune Premier Cru',\n",
              "        'Bekaa Valley', 'Benaco Bresciano', 'Bergerac', 'Bierzo',\n",
              "        'Biferno', 'Binissalem-Mallorca', 'Blaye - Côtes de Bordeaux',\n",
              "        'Bolgheri', 'Bolgheri Sassicaia', 'Bolgheri Superiore',\n",
              "        'Bonnes-Mares Grand Cru', 'Borba', 'Bordeaux',\n",
              "        'Bordeaux Supérieur', 'Bot River', 'Bottelary', 'Bourgogne',\n",
              "        'Bourgogne Epineuil', 'Bourgogne Hautes-Côtes de Beaune',\n",
              "        'Bourgogne Hautes-Côtes de Nuits', \"Brachetto d'Acqui\",\n",
              "        'Breede River Valley', 'Brindisi', 'Brouilly',\n",
              "        'Brunello di Montalcino', 'Burgenland', 'Burkheim', 'Buzet',\n",
              "        'Cabardès', 'Cachapoal Valley', 'Cadillac - Côtes de Bordeaux',\n",
              "        'Cafayate Valley', 'Cahors', 'Cairanne', 'Calabria', 'Calatayud',\n",
              "        'Calchaqui Valley', 'California', 'Calistoga', 'Campanha',\n",
              "        'Campania', 'Campo de Borja', 'Campo de la Guardia',\n",
              "        'Cannonau di Sardegna', 'Canon-Fronsac', 'Cape Agulhas',\n",
              "        'Cape Town', 'Carignano del Sulcis', 'Cariñena', 'Carmignano',\n",
              "        'Carnuntum', 'Casablanca Valley', 'Castel San Lorenzo',\n",
              "        'Castel del Monte', 'Castilla', 'Castilla y León',\n",
              "        'Castillon - Côtes de Bordeaux', 'Catalunya', 'Central Coast',\n",
              "        'Central Otago', 'Central Valley', 'Central Victoria',\n",
              "        'Cerasuolo di Vittoria', 'Chalkidiki', 'Chambolle-Musigny',\n",
              "        \"Chambolle-Musigny 1er Cru 'Les Charmes'\",\n",
              "        'Charmes-Chambertin Grand Cru', 'Chianti', 'Chianti Classico',\n",
              "        'Chianti Colli Senesi', 'Chianti Rùfina', 'Chinon',\n",
              "        'Chorey-lès-Beaune', 'Châteauneuf-du-Pape', 'Cigales', 'Cirò',\n",
              "        'Citrusdal Mountain', 'Clare Valley', 'Clos Vougeot Grand Cru',\n",
              "        'Clos de Lambrays Grand Cru', 'Coastal Region', 'Colchagua Valley',\n",
              "        'Colli Euganei', 'Colli Orientali del Friuli', 'Colli Pesaresi',\n",
              "        'Colli del Limbara', 'Colli della Toscana Centrale',\n",
              "        'Colli di Luni', 'Collines Rhodaniennes', 'Collio',\n",
              "        'Columbia Valley', 'Comté Tolosan', 'Conca de Barberà',\n",
              "        'Constantia', 'Contea di Sclafani', 'Contessa Entellina',\n",
              "        'Coonawarra', 'Copertino', 'Corbières', 'Cornas', 'Corsica',\n",
              "        'Corton Grand Cru', 'Cortona', 'Costa Toscana',\n",
              "        'Coste della Sesia', 'Costers del Segre', 'Costières-de-Nîmes',\n",
              "        'Coteaux Bourguignons', 'Coteaux Varois en Provence',\n",
              "        'Crozes-Hermitage', 'Curico Valley', 'Curtefranca', 'Cádiz',\n",
              "        'Côte Vermeille', 'Côte de Beaune', 'Côte de Beaune Villages',\n",
              "        'Côte de Brouilly', 'Côte de Nuits Villages', 'Côte-Rôtie',\n",
              "        'Côtes Catalanes', 'Côtes de Bordeaux', 'Côtes de Bourg',\n",
              "        'Côtes de Gascogne', 'Côtes de Provence', 'Côtes de Thongue',\n",
              "        'Côtes du Brian', 'Côtes du Roussillon',\n",
              "        'Côtes du Roussillon Villages',\n",
              "        \"Côtes du Roussillon Villages 'Latour de France'\", 'Côtes du Tarn',\n",
              "        'Côtes-du-Rhône', 'Côtes-du-Rhône-Villages',\n",
              "        \"Côtes-du-Rhône-Villages 'Massif d'Uchaux'\",\n",
              "        \"Côtes-du-Rhône-Villages 'Plan de Dieu'\",\n",
              "        \"Côtes-du-Rhône-Villages 'Sablet'\",\n",
              "        \"Côtes-du-Rhône-Villages 'Saint-Maurice'\",\n",
              "        \"Côtes-du-Rhône-Villages 'Seguret'\",\n",
              "        \"Côtes-du-Rhône-Villages 'Visan'\", 'Dalmatian Coast', 'Danube',\n",
              "        'Darling', 'Daunia', 'Dealu Mare', 'Dealurile Olteniei',\n",
              "        \"Dolcetto d'Acqui\", \"Dolcetto d'Alba\", 'Dominio de Valdepusa',\n",
              "        'Douro', 'Drama', 'Dry Creek Valley', 'Dundee Hills',\n",
              "        'Durbanville', 'Dão', 'Eden Valley', 'Elgin', 'Emilia-Romagna',\n",
              "        'Empordà', 'Encruzilhada do Sul', 'Etna', 'Evora', 'Extremadura',\n",
              "        'Faugères', 'Fixin', 'Fleurie', 'Fleurieu',\n",
              "        'Francs - Côtes de Bordeaux', 'Franken', 'Franschhoek',\n",
              "        'Friuli Aquileia', 'Friuli Grave', 'Friuli-Venezia Giulia',\n",
              "        'Fronsac', 'Fronton', 'Galilee', 'Gard', 'Garda', 'Gattinara',\n",
              "        'German Wine', 'Gevrey-Chambertin',\n",
              "        \"Gevrey-Chambertin 1er Cru 'Issarts'\", 'Gigondas',\n",
              "        'Gimblett Gravels', 'Gioia del Colle', 'Gisborne', 'Givry',\n",
              "        \"Givry 1er Cru 'Cellier aux Moines'\",\n",
              "        \"Givry 1er Cru 'Clos Marole'\", \"Givry 1er Cru 'Vigne Rouge'\",\n",
              "        'Goriška Brda', 'Goumenissa', 'Grampians', 'Graubünden', 'Graves',\n",
              "        'Groenekloof', 'Grès de Montpellier', 'Gualtallary', 'Haut-Médoc',\n",
              "        \"Hawke's Bay\", 'Heathcote', 'Heideboden', 'Hemel-en-Aarde Valley',\n",
              "        'Hermitage', 'Horse Heaven Hills', 'Hunter Valley', 'Hérault',\n",
              "        'Irpinia', 'Irpinia Campi Taurasini', 'Isola dei Nuraghi',\n",
              "        'Itata Valley', 'Juliénas', 'Jumilla', 'Kakheti', 'Kamptal',\n",
              "        'Knights Valley', 'Kremstal', 'La Clape', 'La Consulta',\n",
              "        'La Mancha', \"Lacrima di Morro d'Alba\", 'Lago di Corbara',\n",
              "        'Lalande-de-Pomerol', 'Langhe', 'Langhorne Creek', 'Languedoc',\n",
              "        'Languedoc-Roussillon', 'Lanzarote', 'Lazio', 'Lenswood',\n",
              "        'Leyda Valley', 'Limarí Valley', 'Limestone Coast', 'Limoux',\n",
              "        'Lirac', 'Lisboa', 'Listrac-Médoc', 'Livermore Valley', 'Lodi',\n",
              "        'Loire Valley', 'Lombardia', 'Long Island', 'Lontue Valley',\n",
              "        'Los Carneros', 'Luberon', 'Lugana', 'Lujan de Cuyo',\n",
              "        'Lussac-Saint-Émilion', 'Madiran', 'Madrid', 'Maipo Valley',\n",
              "        'Maipu', 'Maldonado', 'Malepère', 'Mallorca', 'Manchuela',\n",
              "        'Marche', 'Maremma Toscana', 'Margaret River', 'Margaux',\n",
              "        'Marlborough', 'Marsannay', 'Martinborough', 'Maule Valley',\n",
              "        'Maury', 'Mayschoss', 'Mazis-Chambertin Grand Cru', 'McLaren Vale',\n",
              "        'Mehedinti', 'Mendocino County', 'Mendoza', 'Menfi', 'Mercurey',\n",
              "        \"Mercurey 1er Cru 'Le Clos L'Evêque'\",\n",
              "        \"Mercurey 1er Cru 'Le Clos du Roy'\", 'Minervois',\n",
              "        'Minervois La Livinière', 'Mittelburgenland', 'Molise',\n",
              "        'Monferrato', 'Monica di Sardegna', 'Montagne-Saint-Émilion',\n",
              "        'Montecucco', 'Montefalco', 'Montefalco Sagrantino',\n",
              "        \"Montepulciano d'Abruzzo\",\n",
              "        \"Montepulciano d'Abruzzo Colline Teramane\", 'Monterey',\n",
              "        'Monterey County', 'Montpeyroux', 'Montsant',\n",
              "        'Morellino di Scansano', 'Morey-Saint-Denis', 'Morgon', 'Mosel',\n",
              "        'Moulin-à-Vent', 'Moulis-en-Médoc', 'Mount Veeder', 'Murfatlar',\n",
              "        'Murray Darling', 'Musigny Grand Cru', 'Mâcon', 'Méditerranée',\n",
              "        'Médoc', 'Méntrida', 'Nahe', 'Naoussa', 'Napa County',\n",
              "        'Napa Valley', 'Nardò', 'Navarra', \"Nebbiolo d'Alba\", 'Nelson',\n",
              "        'Nemea', 'Neusiedlersee', 'Neusiedlersee-Hügelland',\n",
              "        'New South Wales', 'Niagara Peninsula', 'Niederösterreich',\n",
              "        'Ningxia', 'Nizza', 'North Coast', 'Nuits-Saint-Georges',\n",
              "        \"Nuits-Saint-Georges 1er Cru 'Aux Murgers'\",\n",
              "        \"Nuits-Saint-Georges 1er Cru 'Aux Perdrix'\",\n",
              "        'Nuits-Saint-Georges Premier Cru', 'Oakville', 'Offida', 'Ontario',\n",
              "        'Oregon', 'Ortona', 'Orvietano Rosso', 'Otazu', 'Overberg',\n",
              "        'Paarl', 'Paestum', 'Pago Florentino', 'Parrina', 'Paso Robles',\n",
              "        'Patagonia', 'Pauillac', \"Pays d'Oc\", 'Pazardjik',\n",
              "        'Pedernal Valley', 'Penedès', 'Península de Setúbal',\n",
              "        'Pernand-Vergelesses Premier Cru', 'Pessac-Léognan', 'Peumo',\n",
              "        'Pfalz', 'Piave', 'Pic-Saint-Loup', 'Piemonte', 'Pla de Bages',\n",
              "        'Plà i Llevant', 'Podravje', 'Pomerol', 'Pomino', 'Pommard',\n",
              "        \"Pommard 1er Cru 'Les Grands Epenots'\", 'Portalegre',\n",
              "        'Primitivo di Manduria', 'Priorat', 'Progreso',\n",
              "        'Provincia di Pavia', 'Puente Alto', 'Puglia',\n",
              "        'Puisseguin-Saint-Émilion', 'Pécharmant', 'Pézenas',\n",
              "        'Rapel Valley', 'Rapsani', 'Rasteau', 'Red Mountain', 'Reggiano',\n",
              "        'Rheingau', 'Rheinhessen', 'Ribatejo', 'Ribeira Sacra',\n",
              "        'Ribera del Duero', 'Ribera del Queiles', 'Rio Grande do Sul',\n",
              "        'Rioja', 'Rioja Alavesa', 'Rioja Alta', 'Riverina', 'Rivesaltes',\n",
              "        'Robertson', 'Roccamonfina', 'Roero', 'Romagna', 'Rosso Piceno',\n",
              "        'Rosso Veronese', 'Rosso di Montalcino', 'Rosso di Montepulciano',\n",
              "        'Rubicone', 'Ruchè', 'Rully', 'Russian River Valley', 'Rutherford',\n",
              "        'Saale-Unstrut', 'Sachsen', 'Saint-Amour', 'Saint-Chinian',\n",
              "        'Saint-Drézéry', 'Saint-Estèphe', 'Saint-Georges d’Orques',\n",
              "        'Saint-Georges-Saint-Émilion', 'Saint-Guilhem-le-Desert',\n",
              "        'Saint-Joseph', 'Saint-Julien', 'Saint-Mont', 'Saint-Émilion',\n",
              "        'Saint-Émilion Grand Cru', 'Sainte-Foy-Bordeaux', 'Salento',\n",
              "        'Salice Salentino', 'Salta', 'Samburesti', 'San Antonio Valley',\n",
              "        'San Carlos', 'San Gimignano', 'San José', 'San Juan',\n",
              "        'San Rafael', 'San Severo', 'Sancerre', 'Sangiovese di Romagna',\n",
              "        \"Sant'Antimo\", 'Santa Cruz Mountains', 'Santa Lucia Highlands',\n",
              "        'Santa Maria Valley', 'Santenay', \"Santenay 1er Cru 'Beauregard'\",\n",
              "        'Santorini', 'Sardegna', 'Sardón de Duero', 'Saumur',\n",
              "        'Saumur-Champigny', 'Savigny-lès-Beaune',\n",
              "        \"Savigny-lès-Beaune 1er Cru 'Aux Clous'\",\n",
              "        \"Savigny-lès-Beaune 1er Cru 'Les Lavières'\", 'Sebino',\n",
              "        'Serra Gaúcha', 'Sforzato della Valtellina', 'Sicilia',\n",
              "        'Sierras de Málaga', 'Simonsberg-Stellenbosch', 'Slopes of Enos',\n",
              "        'Slovakia', 'Somontano', 'Sonoma Coast', 'Sonoma County',\n",
              "        'Sonoma Valley', 'Sopron', 'South Australia', 'South Eastern',\n",
              "        'South Eastern Australia', 'South Island', 'Southeastern Anatolia',\n",
              "        'Srednja I Juzna Dalmacija', 'St. Helena', 'Sta. Rita Hills',\n",
              "        'Stags Leap District', 'Stellenbosch', 'Swartland',\n",
              "        'Südburgenland', 'Südoststeiermark', 'Südsteiermark',\n",
              "        'Südtirol - Alto Adige', 'Taburno', 'Tarantino', 'Tarnave',\n",
              "        'Taurasi', 'Tejo', 'Teroldego Rotaliano', 'Terra Alta',\n",
              "        'Terrasses du Larzac', 'Terrazze Retiche di Sondrio',\n",
              "        'Terre Siciliane', 'Terre degli Osci', 'Terre del Volturno',\n",
              "        'Terre di Chieti', 'Thermenregion', 'Thrace', 'Ticino',\n",
              "        'Tierra de León', 'Torgiano', 'Torgiano Rosso Riserva', 'Toro',\n",
              "        'Toscana', 'Transylvania', 'Trentino', 'Trentino-Alto Adige',\n",
              "        'Tulbagh', 'Tulum Valley', 'Tunuyán', 'Tupungato', 'Uclés',\n",
              "        'Uco Valley', 'Umbria', 'Utiel-Requena', 'Vacqueyras',\n",
              "        'Val di Neto', 'Valais', 'Valdadige Terradeiforti', 'Valdejalón',\n",
              "        'Valdeorras', 'Valdepeñas', 'Vale dos Vinhedos', 'Valencia',\n",
              "        \"Valle d'Aosta\", 'Valle de Guadalupe', 'Vallee du Paradis',\n",
              "        'Valpolicella', 'Valpolicella Classico', 'Valpolicella Ripasso',\n",
              "        'Valpolicella Ripasso Classico', 'Valpolicella Valpantena',\n",
              "        'Valtellina', 'Valtellina Superiore', 'Valtenesi', 'Valtiendas',\n",
              "        'Var', 'Vaucluse', 'Veneto', 'Venezia', 'Venezia Giulia',\n",
              "        'Ventoux', 'Verona', 'Victoria', 'Vigneti delle Dolomiti',\n",
              "        'Villány', 'Vin de France', 'Vin de Pays',\n",
              "        'Vino Nobile di Montepulciano', \"Vino d'Italia\", 'Vino de España',\n",
              "        'Vins des Allobroges', 'Vinsobres', 'Vipava', 'Vista Flores',\n",
              "        'Volnay', \"Volnay 1er Cru 'Carelle sous la Chapelle'\",\n",
              "        \"Volnay 1er Cru 'Clos de la Barre'\",\n",
              "        \"Volnay 1er Cru 'Clos des Chênes'\", \"Volnay 1er Cru 'Santenots'\",\n",
              "        'Volnay Premier Cru', 'Vosne-Romanée',\n",
              "        \"Vosne-Romanée 1er Cru 'Les Beaux Monts'\",\n",
              "        'Vosne-Romanée Premier Cru',\n",
              "        \"Vougeot 1er Cru 'Les Petits Vougeots'\", 'Wachau', 'Wagram',\n",
              "        'Wahluke Slope', 'Waipara', 'Wairarapa', 'Walker Bay',\n",
              "        'Walla Walla Valley', 'Washington', 'Weinviertel', 'Wellington',\n",
              "        'Western Cape', 'Wien', 'Willamette Valley', 'Württemberg',\n",
              "        'Yamhill-Carlton District', 'Yecla', 'Zürich', 'delle Venezie',\n",
              "        'unknown', 'Échezeaux Grand Cru', 'Štajerska'], dtype=object)]"
            ]
          },
          "metadata": {},
          "execution_count": 35
        }
      ]
    },
    {
      "cell_type": "code",
      "source": [
        "Winery_encoder.categories_"
      ],
      "metadata": {
        "id": "-AA5uzoHYcz9",
        "colab": {
          "base_uri": "https://localhost:8080/"
        },
        "outputId": "4e877127-e5b6-4ca4-a204-24b9c748a797"
      },
      "execution_count": null,
      "outputs": [
        {
          "output_type": "execute_result",
          "data": {
            "text/plain": [
              "[array(['14 Hands', '19 Crimes', '4 Kilos Vinícola', ..., 'Áster',\n",
              "        'Ökonomierat Rebholz', 'Κτημα Τσελεπου (Ktima Tselepos)'],\n",
              "       dtype=object)]"
            ]
          },
          "metadata": {},
          "execution_count": 36
        }
      ]
    },
    {
      "cell_type": "code",
      "source": [
        "pais= str(input(\"digite um pais: \"))\n",
        "regiao = str(input(\"digite uma região: \"))\n",
        "vinicola = str(input(\"digite uma vinicola: \"))\n",
        "preco = float(input(\"digite o preco: \"))\n",
        "ano = int(input(\"digite o ano: \"))"
      ],
      "metadata": {
        "id": "BlUx_OzIIVtB"
      },
      "execution_count": null,
      "outputs": []
    },
    {
      "cell_type": "code",
      "source": [
        "pais= \"xcvbnm\"\n",
        "regiao = \"xcvbnm\"\n",
        "vinicola = \"bvvbn\"\n",
        "preco = 20\n",
        "ano = 2"
      ],
      "metadata": {
        "id": "GXSfZhnTaLRn"
      },
      "execution_count": null,
      "outputs": []
    },
    {
      "cell_type": "code",
      "source": [
        "pais= \"France\"\n",
        "regiao = \"Pomerol\"\n",
        "vinicola = \"Château La Providence\"\n",
        "preco = 20\n",
        "ano = 2010"
      ],
      "metadata": {
        "id": "ihJS2LAEEEyF"
      },
      "execution_count": null,
      "outputs": []
    },
    {
      "cell_type": "code",
      "source": [
        "pais= \"France\"\n",
        "regiao = \"Pomerol\"\n",
        "vinicola = \"Château La Providence\"\n",
        "preco = 70\n",
        "ano = 2001"
      ],
      "metadata": {
        "id": "FCfCCHrqEVnU"
      },
      "execution_count": null,
      "outputs": []
    },
    {
      "cell_type": "code",
      "source": [
        "pais= \"Italy\"\n",
        "regiao = \"Vigneti delle Dolomiti\"\n",
        "vinicola = \"Manincor\"\n",
        "preco = 17.5\n",
        "ano = 2019"
      ],
      "metadata": {
        "id": "DBckDLX8EZ9k"
      },
      "execution_count": null,
      "outputs": []
    },
    {
      "cell_type": "code",
      "source": [
        "pais= \"France\"\n",
        "regiao = \"Méditerranée\"\n",
        "vinicola = \"Château Camparnaud\"\n",
        "preco = 10.11\n",
        "ano = 2019"
      ],
      "metadata": {
        "id": "6L2khYDMEd-H"
      },
      "execution_count": null,
      "outputs": []
    },
    {
      "cell_type": "code",
      "source": [
        "pais= \"xcvbnm\"\n",
        "regiao = \"xcvbnm\"\n",
        "vinicola = \"bvvbn\"\n",
        "preco = 187.00\n",
        "ano = 2019"
      ],
      "metadata": {
        "id": "UQXjCcq6Ejpc"
      },
      "execution_count": null,
      "outputs": []
    },
    {
      "cell_type": "code",
      "source": [
        "pais= \"xcvbnm\"\n",
        "regiao = \"xcvbnm\"\n",
        "vinicola = \"bvvbn\"\n",
        "preco = 20\n",
        "ano = 2019"
      ],
      "metadata": {
        "id": "26CmWnb5Ei22"
      },
      "execution_count": null,
      "outputs": []
    },
    {
      "cell_type": "code",
      "source": [
        "try:\n",
        "  pais_encoder = Country_encoder.transform([[pais]])\n",
        "except:\n",
        "  print(\"Pais desconhecido\")\n",
        "  pais_encoder = Country_encoder.transform([[\"unknown\"]])\n",
        "\n",
        "try:\n",
        "  regiao_encoder = Region_encoder.transform([[regiao]])\n",
        "except:\n",
        "  print(\"Região desconhecida\")\n",
        "  regiao_encoder = Region_encoder.transform([[\"unknown\"]])\n",
        "\n",
        "try:\n",
        "  vinicola_encoder = Winery_encoder.transform([[vinicola]])\n",
        "except:\n",
        "  print(\"Vinicola desconhecida\")\n",
        "  vinicola_encoder = Winery_encoder.transform([[\"unknown\"]])\n",
        "\n",
        "ano_encoder = float(2023-ano)\n",
        "\n",
        "pais_encoder,regiao_encoder,vinicola_encoder,ano_encoder"
      ],
      "metadata": {
        "id": "5CAUv9cbM9AJ"
      },
      "execution_count": null,
      "outputs": []
    },
    {
      "cell_type": "code",
      "source": [
        "entrada_modelo = np.array([[pais_encoder[0][0],regiao_encoder[0][0],vinicola_encoder[0][0],preco,ano_encoder]])\n",
        "entrada_modelo"
      ],
      "metadata": {
        "id": "9-LiUXP4T0sr"
      },
      "execution_count": null,
      "outputs": []
    },
    {
      "cell_type": "code",
      "source": [
        "classificacao = model.predict(entrada_modelo)"
      ],
      "metadata": {
        "id": "Svj47n2uU38c"
      },
      "execution_count": null,
      "outputs": []
    },
    {
      "cell_type": "code",
      "source": [
        "round(classificacao[0][0],4)"
      ],
      "metadata": {
        "id": "6H9I-FG0VHPv"
      },
      "execution_count": null,
      "outputs": []
    }
  ]
}